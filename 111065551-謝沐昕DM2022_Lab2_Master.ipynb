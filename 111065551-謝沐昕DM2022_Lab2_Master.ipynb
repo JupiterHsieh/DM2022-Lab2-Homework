{
  "cells": [
    {
      "cell_type": "markdown",
      "metadata": {
        "id": "uuutyCx4YTpX"
      },
      "source": [
        "# Data Mining Lab 2\n",
        "In this lab session we will focus on the use of Neural Word Embeddings "
      ]
    },
    {
      "cell_type": "markdown",
      "metadata": {
        "id": "ledffNYYYTpX"
      },
      "source": [
        "## Table of Contents\n",
        "1. Data preparation\n",
        "2. Feature engineering\n",
        "3. Model\n",
        "4. Results evaluation\n",
        "5. Other things you could try\n",
        "6. Deep Learning\n",
        "7. Word to Vector\n",
        "8. Clustering\n",
        "9. High-dimension Visualization\n",
        "\n"
      ]
    },
    {
      "cell_type": "markdown",
      "metadata": {
        "id": "c5yAcqIPH5u6"
      },
      "source": [
        "### Necessary Library Requirements:\n",
        "\n",
        "#### Same as Lab1:\n",
        "- [Jupyter](http://jupyter.org/) (Strongly recommended but not required)\n",
        "    - Install via `pip3 install jupyter` and use `jupyter notebook` in terminal to run\n",
        "- [Scikit Learn](http://scikit-learn.org/stable/index.html)\n",
        "    - Install via `pip3 sklearn` from a terminal\n",
        "- [Pandas](http://pandas.pydata.org/)\n",
        "    - Install via `pip3 install pandas` from a terminal\n",
        "- [Numpy](http://www.numpy.org/)\n",
        "    - Install via `pip3 install numpy` from a terminal\n",
        "- [Matplotlib](https://matplotlib.org/)\n",
        "    - Install via `pip3 maplotlib` from a terminal\n",
        "- [Plotly](https://plot.ly/)\n",
        "    - Install via `pip3 install plotly` from a terminal\n",
        "- [Seaborn](https://seaborn.pydata.org/)\n",
        "    - Install and signup for `seaborn`\n",
        "- [NLTK](http://www.nltk.org/)\n",
        "    - Install via `pip3 install nltk` from a terminal\n",
        "\n",
        "#### New Libraries to install:\n",
        "- [Gensim](https://pypi.org/project/gensim/)\n",
        "    - Install via `pip3 install gensim`\n",
        "\n",
        "- [tensorflow](https://www.tensorflow.org/)\n",
        "    - Install via `pip3 install tensorflow`\n",
        "    - Also install `pip3 install tensorflow-hub`\n",
        "\n",
        "- [Keras](https://keras.io/)\n",
        "    - Install via `pip3 install keras`"
      ]
    },
    {
      "cell_type": "markdown",
      "metadata": {
        "id": "LIpAqCvMYTpX"
      },
      "source": [
        "---\n",
        "## Introduction"
      ]
    },
    {
      "cell_type": "markdown",
      "metadata": {
        "id": "n2paPeNbYTpX"
      },
      "source": [
        "**Dataset:** [SemEval 2017 Task](https://competitions.codalab.org/competitions/16380)\n",
        "\n",
        "**Task:** Classify text data into 4 different emotions using word embedding and other deep information retrieval approaches.\n",
        "\n",
        "![pic0](pics/pic0.png)"
      ]
    },
    {
      "cell_type": "markdown",
      "metadata": {
        "id": "op_X7pR-YTpX"
      },
      "source": [
        "---\n",
        "## 1. Data Preparation"
      ]
    },
    {
      "cell_type": "markdown",
      "metadata": {
        "id": "ID-8I1ELYTpX"
      },
      "source": [
        "Before beggining the lab, please make sure to download the [Google News Dataset](https://drive.google.com/file/d/0B7XkCwpI5KDYNlNUTTlSS21pQmM/edit) and place it in a folder named \"GoogleNews\" in the same directory as this file."
      ]
    },
    {
      "cell_type": "markdown",
      "metadata": {
        "id": "pgoEbZzSYTpX"
      },
      "source": [
        "## 1.1 Load data\n",
        "\n",
        "We start by loading the csv files into a single pandas dataframe for training and one for testing."
      ]
    },
    {
      "cell_type": "code",
      "source": [
        "import os\n",
        "\n",
        "from google.colab import drive\n",
        "drive.mount('/content/drive')"
      ],
      "metadata": {
        "colab": {
          "base_uri": "https://localhost:8080/"
        },
        "id": "jcP0RgmrIqMw",
        "outputId": "06d990d6-0f61-49f0-f502-199a121ad9b9"
      },
      "execution_count": null,
      "outputs": [
        {
          "output_type": "stream",
          "name": "stdout",
          "text": [
            "Mounted at /content/drive\n"
          ]
        }
      ]
    },
    {
      "cell_type": "code",
      "source": [
        "import pandas as pd"
      ],
      "metadata": {
        "id": "1J2YTBYbK9C5"
      },
      "execution_count": null,
      "outputs": []
    },
    {
      "cell_type": "code",
      "source": [
        "anger_route = \"/content/drive/My Drive/DM2022-Lab2-Master/data/semeval/train/anger-ratings-0to1.train.txt\"\n",
        "sadness_route = \"/content/drive/My Drive/DM2022-Lab2-Master/data/semeval/train/sadness-ratings-0to1.train.txt\"\n",
        "fear_route = \"/content/drive/My Drive/DM2022-Lab2-Master/data/semeval/train/fear-ratings-0to1.train.txt\"\n",
        "joy_route = \"/content/drive/My Drive/DM2022-Lab2-Master/data/semeval/train/joy-ratings-0to1.train.txt\"\n",
        "\n",
        "\n",
        "anger_route_test = \"/content/drive/My Drive/DM2022-Lab2-Master/data/semeval/dev/anger-ratings-0to1.dev.gold.txt\"\n",
        "sadness_route_test = \"/content/drive/My Drive/DM2022-Lab2-Master/data/semeval/dev/sadness-ratings-0to1.dev.gold.txt\"\n",
        "fear_route_test = \"/content/drive/My Drive/DM2022-Lab2-Master/data/semeval/dev/fear-ratings-0to1.dev.gold.txt\"\n",
        "joy_route_test = \"/content/drive/My Drive/DM2022-Lab2-Master/data/semeval/dev/joy-ratings-0to1.dev.gold.txt\"\n"
      ],
      "metadata": {
        "id": "SYEv1cHFI_Xk"
      },
      "execution_count": null,
      "outputs": []
    },
    {
      "cell_type": "code",
      "execution_count": null,
      "metadata": {
        "id": "anfjcPSSYTpX"
      },
      "outputs": [],
      "source": [
        "\n",
        "\n",
        "### training data\n",
        "anger_train = pd.read_csv(anger_route,\n",
        "                         sep=\"\\t\", header=None,names=[\"id\", \"text\", \"emotion\", \"intensity\"])\n",
        "sadness_train = pd.read_csv(sadness_route,\n",
        "                         sep=\"\\t\", header=None, names=[\"id\", \"text\", \"emotion\", \"intensity\"])\n",
        "fear_train = pd.read_csv(fear_route,\n",
        "                         sep=\"\\t\", header=None, names=[\"id\", \"text\", \"emotion\", \"intensity\"])\n",
        "joy_train = pd.read_csv(joy_route,\n",
        "                         sep=\"\\t\", header=None, names=[\"id\", \"text\", \"emotion\", \"intensity\"])"
      ]
    },
    {
      "cell_type": "code",
      "execution_count": null,
      "metadata": {
        "id": "yVc2T5MIYTpX"
      },
      "outputs": [],
      "source": [
        "# combine 4 sub-dataset\n",
        "train_df = pd.concat([anger_train, fear_train, joy_train, sadness_train], ignore_index=True)"
      ]
    },
    {
      "cell_type": "code",
      "execution_count": null,
      "metadata": {
        "colab": {
          "base_uri": "https://localhost:8080/",
          "height": 204
        },
        "id": "Kw8bGMv7YTpX",
        "outputId": "65b21329-f164-4fa0-9592-122df5519ce0"
      },
      "outputs": [
        {
          "output_type": "execute_result",
          "data": {
            "text/plain": [
              "      id                                               text emotion  intensity\n",
              "0  10000  How the fu*k! Who the heck! moved my fridge!.....   anger      0.938\n",
              "1  10001  So my Indian Uber driver just called someone t...   anger      0.896\n",
              "2  10002  @DPD_UK I asked for my parcel to be delivered ...   anger      0.896\n",
              "3  10003  so ef whichever butt wipe pulled the fire alar...   anger      0.896\n",
              "4  10004  Don't join @BTCare they put the phone down on ...   anger      0.896"
            ],
            "text/html": [
              "\n",
              "  <div id=\"df-42b5aded-b12a-40aa-a181-a8567c077287\">\n",
              "    <div class=\"colab-df-container\">\n",
              "      <div>\n",
              "<style scoped>\n",
              "    .dataframe tbody tr th:only-of-type {\n",
              "        vertical-align: middle;\n",
              "    }\n",
              "\n",
              "    .dataframe tbody tr th {\n",
              "        vertical-align: top;\n",
              "    }\n",
              "\n",
              "    .dataframe thead th {\n",
              "        text-align: right;\n",
              "    }\n",
              "</style>\n",
              "<table border=\"1\" class=\"dataframe\">\n",
              "  <thead>\n",
              "    <tr style=\"text-align: right;\">\n",
              "      <th></th>\n",
              "      <th>id</th>\n",
              "      <th>text</th>\n",
              "      <th>emotion</th>\n",
              "      <th>intensity</th>\n",
              "    </tr>\n",
              "  </thead>\n",
              "  <tbody>\n",
              "    <tr>\n",
              "      <th>0</th>\n",
              "      <td>10000</td>\n",
              "      <td>How the fu*k! Who the heck! moved my fridge!.....</td>\n",
              "      <td>anger</td>\n",
              "      <td>0.938</td>\n",
              "    </tr>\n",
              "    <tr>\n",
              "      <th>1</th>\n",
              "      <td>10001</td>\n",
              "      <td>So my Indian Uber driver just called someone t...</td>\n",
              "      <td>anger</td>\n",
              "      <td>0.896</td>\n",
              "    </tr>\n",
              "    <tr>\n",
              "      <th>2</th>\n",
              "      <td>10002</td>\n",
              "      <td>@DPD_UK I asked for my parcel to be delivered ...</td>\n",
              "      <td>anger</td>\n",
              "      <td>0.896</td>\n",
              "    </tr>\n",
              "    <tr>\n",
              "      <th>3</th>\n",
              "      <td>10003</td>\n",
              "      <td>so ef whichever butt wipe pulled the fire alar...</td>\n",
              "      <td>anger</td>\n",
              "      <td>0.896</td>\n",
              "    </tr>\n",
              "    <tr>\n",
              "      <th>4</th>\n",
              "      <td>10004</td>\n",
              "      <td>Don't join @BTCare they put the phone down on ...</td>\n",
              "      <td>anger</td>\n",
              "      <td>0.896</td>\n",
              "    </tr>\n",
              "  </tbody>\n",
              "</table>\n",
              "</div>\n",
              "      <button class=\"colab-df-convert\" onclick=\"convertToInteractive('df-42b5aded-b12a-40aa-a181-a8567c077287')\"\n",
              "              title=\"Convert this dataframe to an interactive table.\"\n",
              "              style=\"display:none;\">\n",
              "        \n",
              "  <svg xmlns=\"http://www.w3.org/2000/svg\" height=\"24px\"viewBox=\"0 0 24 24\"\n",
              "       width=\"24px\">\n",
              "    <path d=\"M0 0h24v24H0V0z\" fill=\"none\"/>\n",
              "    <path d=\"M18.56 5.44l.94 2.06.94-2.06 2.06-.94-2.06-.94-.94-2.06-.94 2.06-2.06.94zm-11 1L8.5 8.5l.94-2.06 2.06-.94-2.06-.94L8.5 2.5l-.94 2.06-2.06.94zm10 10l.94 2.06.94-2.06 2.06-.94-2.06-.94-.94-2.06-.94 2.06-2.06.94z\"/><path d=\"M17.41 7.96l-1.37-1.37c-.4-.4-.92-.59-1.43-.59-.52 0-1.04.2-1.43.59L10.3 9.45l-7.72 7.72c-.78.78-.78 2.05 0 2.83L4 21.41c.39.39.9.59 1.41.59.51 0 1.02-.2 1.41-.59l7.78-7.78 2.81-2.81c.8-.78.8-2.07 0-2.86zM5.41 20L4 18.59l7.72-7.72 1.47 1.35L5.41 20z\"/>\n",
              "  </svg>\n",
              "      </button>\n",
              "      \n",
              "  <style>\n",
              "    .colab-df-container {\n",
              "      display:flex;\n",
              "      flex-wrap:wrap;\n",
              "      gap: 12px;\n",
              "    }\n",
              "\n",
              "    .colab-df-convert {\n",
              "      background-color: #E8F0FE;\n",
              "      border: none;\n",
              "      border-radius: 50%;\n",
              "      cursor: pointer;\n",
              "      display: none;\n",
              "      fill: #1967D2;\n",
              "      height: 32px;\n",
              "      padding: 0 0 0 0;\n",
              "      width: 32px;\n",
              "    }\n",
              "\n",
              "    .colab-df-convert:hover {\n",
              "      background-color: #E2EBFA;\n",
              "      box-shadow: 0px 1px 2px rgba(60, 64, 67, 0.3), 0px 1px 3px 1px rgba(60, 64, 67, 0.15);\n",
              "      fill: #174EA6;\n",
              "    }\n",
              "\n",
              "    [theme=dark] .colab-df-convert {\n",
              "      background-color: #3B4455;\n",
              "      fill: #D2E3FC;\n",
              "    }\n",
              "\n",
              "    [theme=dark] .colab-df-convert:hover {\n",
              "      background-color: #434B5C;\n",
              "      box-shadow: 0px 1px 3px 1px rgba(0, 0, 0, 0.15);\n",
              "      filter: drop-shadow(0px 1px 2px rgba(0, 0, 0, 0.3));\n",
              "      fill: #FFFFFF;\n",
              "    }\n",
              "  </style>\n",
              "\n",
              "      <script>\n",
              "        const buttonEl =\n",
              "          document.querySelector('#df-42b5aded-b12a-40aa-a181-a8567c077287 button.colab-df-convert');\n",
              "        buttonEl.style.display =\n",
              "          google.colab.kernel.accessAllowed ? 'block' : 'none';\n",
              "\n",
              "        async function convertToInteractive(key) {\n",
              "          const element = document.querySelector('#df-42b5aded-b12a-40aa-a181-a8567c077287');\n",
              "          const dataTable =\n",
              "            await google.colab.kernel.invokeFunction('convertToInteractive',\n",
              "                                                     [key], {});\n",
              "          if (!dataTable) return;\n",
              "\n",
              "          const docLinkHtml = 'Like what you see? Visit the ' +\n",
              "            '<a target=\"_blank\" href=https://colab.research.google.com/notebooks/data_table.ipynb>data table notebook</a>'\n",
              "            + ' to learn more about interactive tables.';\n",
              "          element.innerHTML = '';\n",
              "          dataTable['output_type'] = 'display_data';\n",
              "          await google.colab.output.renderOutput(dataTable, element);\n",
              "          const docLink = document.createElement('div');\n",
              "          docLink.innerHTML = docLinkHtml;\n",
              "          element.appendChild(docLink);\n",
              "        }\n",
              "      </script>\n",
              "    </div>\n",
              "  </div>\n",
              "  "
            ]
          },
          "metadata": {},
          "execution_count": 6
        }
      ],
      "source": [
        "### testing data\n",
        "anger_test = pd.read_csv(anger_route_test,\n",
        "                         sep=\"\\t\", header=None, names=[\"id\", \"text\", \"emotion\", \"intensity\"])\n",
        "sadness_test = pd.read_csv(sadness_route_test,\n",
        "                         sep=\"\\t\", header=None, names=[\"id\", \"text\", \"emotion\", \"intensity\"])\n",
        "fear_test = pd.read_csv(fear_route_test,\n",
        "                         sep=\"\\t\", header=None, names=[\"id\", \"text\", \"emotion\", \"intensity\"])\n",
        "joy_test = pd.read_csv(joy_route_test,\n",
        "                         sep=\"\\t\", header=None, names=[\"id\", \"text\", \"emotion\", \"intensity\"])\n",
        "\n",
        "# combine 4 sub-dataset\n",
        "test_df = pd.concat([anger_test, fear_test, joy_test, sadness_test], ignore_index=True)\n",
        "train_df.head()"
      ]
    },
    {
      "cell_type": "code",
      "execution_count": null,
      "metadata": {
        "id": "HBHwcL8sYTpX"
      },
      "outputs": [],
      "source": [
        "# shuffle dataset\n",
        "train_df = train_df.sample(frac=1)\n",
        "test_df = test_df.sample(frac=1)"
      ]
    },
    {
      "cell_type": "code",
      "execution_count": null,
      "metadata": {
        "colab": {
          "base_uri": "https://localhost:8080/"
        },
        "id": "9w_cDUwCYTpX",
        "outputId": "18f13116-6bc1-44ad-ebad-fc60c5c787f9",
        "scrolled": true
      },
      "outputs": [
        {
          "output_type": "stream",
          "name": "stdout",
          "text": [
            "Shape of Training df:  (3613, 4)\n",
            "Shape of Testing df:  (347, 4)\n"
          ]
        }
      ],
      "source": [
        "print(\"Shape of Training df: \", train_df.shape)\n",
        "print(\"Shape of Testing df: \", test_df.shape)"
      ]
    },
    {
      "cell_type": "markdown",
      "metadata": {
        "id": "escCgU1zYTpX"
      },
      "source": [
        "---\n",
        "### ** >>> Exercise 1 (Take home): **  \n",
        "Plot word frequency for Top 30 words in both train and test dataset. (Hint: refer to DM lab 1)\n"
      ]
    },
    {
      "cell_type": "code",
      "source": [
        "import nltk\n",
        "\n",
        "train_token =[]\n",
        "\n",
        "tokenizer = nltk.tokenize.RegexpTokenizer(r'\\w+')\n",
        "\n",
        "for i in train_df['text']:\n",
        "    train_token = train_token+tokenizer.tokenize(i)\n",
        "\n",
        "\n",
        "train_term_freq = nltk.FreqDist(train_token)\n",
        "train_term30 = nltk.FreqDist(dict(train_term_freq.most_common()[:30]))\n",
        "train_term30.plot()\n",
        "\n",
        "\n",
        "test_token =[]\n",
        "\n",
        "\n",
        "\n",
        "for i in test_df['text']:\n",
        "    test_token = test_token+tokenizer.tokenize(i)\n",
        "\n",
        "\n",
        "test_term_freq = nltk.FreqDist(test_token)\n",
        "test_term30 = nltk.FreqDist(dict(test_term_freq.most_common()[:30]))\n",
        "test_term30.plot()\n",
        "plt.show()"
      ],
      "metadata": {
        "colab": {
          "base_uri": "https://localhost:8080/",
          "height": 752
        },
        "id": "IQ5i0lBvNz4M",
        "outputId": "7fbc6f97-d677-445e-93cb-5ce19865a6ae"
      },
      "execution_count": null,
      "outputs": [
        {
          "output_type": "display_data",
          "data": {
            "text/plain": [
              "<Figure size 432x288 with 1 Axes>"
            ],
            "image/png": "[encoded data removed]"
          },
          "metadata": {
            "needs_background": "light"
          }
        },
        {
          "output_type": "display_data",
          "data": {
            "text/plain": [
              "<Figure size 432x288 with 1 Axes>"
            ],
            "image/png": "[encoded data removed]"
          },
          "metadata": {
            "needs_background": "light"
          }
        },
        {
          "output_type": "error",
          "ename": "NameError",
          "evalue": "ignored",
          "traceback": [
            "\u001b[0;31m---------------------------------------------------------------------------\u001b[0m",
            "\u001b[0;31mNameError\u001b[0m                                 Traceback (most recent call last)",
            "\u001b[0;32m<ipython-input-9-c45510c55d99>\u001b[0m in \u001b[0;36m<module>\u001b[0;34m\u001b[0m\n\u001b[1;32m     25\u001b[0m \u001b[0mtest_term30\u001b[0m \u001b[0;34m=\u001b[0m \u001b[0mnltk\u001b[0m\u001b[0;34m.\u001b[0m\u001b[0mFreqDist\u001b[0m\u001b[0;34m(\u001b[0m\u001b[0mdict\u001b[0m\u001b[0;34m(\u001b[0m\u001b[0mtest_term_freq\u001b[0m\u001b[0;34m.\u001b[0m\u001b[0mmost_common\u001b[0m\u001b[0;34m(\u001b[0m\u001b[0;34m)\u001b[0m\u001b[0;34m[\u001b[0m\u001b[0;34m:\u001b[0m\u001b[0;36m30\u001b[0m\u001b[0;34m]\u001b[0m\u001b[0;34m)\u001b[0m\u001b[0;34m)\u001b[0m\u001b[0;34m\u001b[0m\u001b[0;34m\u001b[0m\u001b[0m\n\u001b[1;32m     26\u001b[0m \u001b[0mtest_term30\u001b[0m\u001b[0;34m.\u001b[0m\u001b[0mplot\u001b[0m\u001b[0;34m(\u001b[0m\u001b[0;34m)\u001b[0m\u001b[0;34m\u001b[0m\u001b[0;34m\u001b[0m\u001b[0m\n\u001b[0;32m---> 27\u001b[0;31m \u001b[0mplt\u001b[0m\u001b[0;34m.\u001b[0m\u001b[0mshow\u001b[0m\u001b[0;34m(\u001b[0m\u001b[0;34m)\u001b[0m\u001b[0;34m\u001b[0m\u001b[0;34m\u001b[0m\u001b[0m\n\u001b[0m",
            "\u001b[0;31mNameError\u001b[0m: name 'plt' is not defined"
          ]
        }
      ]
    },
    {
      "cell_type": "markdown",
      "metadata": {
        "id": "_hr8aKhlYTpo"
      },
      "source": [
        "---\n",
        "### 1.2 Save data"
      ]
    },
    {
      "cell_type": "markdown",
      "metadata": {
        "id": "Zm6GF2VvYTpo"
      },
      "source": [
        "We will save our data in Pickle format. The pickle module implements binary protocols for serializing and de-serializing a Python object structure.   \n",
        "  \n",
        "Some advantages for using pickle structure:  \n",
        "* Because it stores the attribute type, it's more convenient for cross-platform use.  \n",
        "* When your data is huge, it could use less space to store also consume less loading time.   "
      ]
    },
    {
      "cell_type": "code",
      "execution_count": null,
      "metadata": {
        "id": "dZzepBdpYTpo"
      },
      "outputs": [],
      "source": [
        "## save to pickle file\n",
        "train_df.to_pickle(\"train_df.pkl\") \n",
        "test_df.to_pickle(\"test_df.pkl\")"
      ]
    },
    {
      "cell_type": "code",
      "execution_count": null,
      "metadata": {
        "id": "H5uO-kOUYTpo"
      },
      "outputs": [],
      "source": [
        "import pandas as pd\n",
        "\n",
        "## load a pickle file\n",
        "train_df = pd.read_pickle(\"train_df.pkl\")\n",
        "test_df = pd.read_pickle(\"test_df.pkl\")"
      ]
    },
    {
      "cell_type": "markdown",
      "metadata": {
        "id": "_sLDcQzeYTpo"
      },
      "source": [
        "For more information: https://reurl.cc/0Dzqx"
      ]
    },
    {
      "cell_type": "markdown",
      "metadata": {
        "id": "dKHpxTzLYTpo"
      },
      "source": [
        "---\n",
        "### 1.3 Exploratory data analysis (EDA)\n",
        "\n",
        "Again, before getting our hands dirty, we need to explore a little bit and understand the data we're dealing with."
      ]
    },
    {
      "cell_type": "code",
      "execution_count": null,
      "metadata": {
        "colab": {
          "base_uri": "https://localhost:8080/"
        },
        "id": "mLnEEliCYTpo",
        "outputId": "da32c3fc-b45c-4860-8cdc-d13adc240c80"
      },
      "outputs": [
        {
          "output_type": "execute_result",
          "data": {
            "text/plain": [
              "emotion\n",
              "anger       857\n",
              "fear       1147\n",
              "joy         823\n",
              "sadness     786\n",
              "Name: text, dtype: int64"
            ]
          },
          "metadata": {},
          "execution_count": 12
        }
      ],
      "source": [
        "# group to find distribution\n",
        "train_df.groupby(['emotion']).count()['text']"
      ]
    },
    {
      "cell_type": "code",
      "execution_count": null,
      "metadata": {
        "colab": {
          "base_uri": "https://localhost:8080/",
          "height": 241
        },
        "id": "pcVOe8nYYTpo",
        "outputId": "98ecbfc3-a76b-4d3d-b5d8-7d006a2ac6c3"
      },
      "outputs": [
        {
          "output_type": "display_data",
          "data": {
            "text/plain": [
              "<Figure size 360x216 with 1 Axes>"
            ],
            "image/png": "[encoded data removed]"
          },
          "metadata": {
            "needs_background": "light"
          }
        }
      ],
      "source": [
        "%matplotlib inline\n",
        "import numpy as np\n",
        "import matplotlib.pyplot as plt\n",
        "\n",
        "# the histogram of the data\n",
        "labels = train_df['emotion'].unique()\n",
        "post_total = len(train_df)\n",
        "df1 = train_df.groupby(['emotion']).count()['text']\n",
        "df1 = df1.apply(lambda x: round(x*100/post_total,3))\n",
        "\n",
        "#plot\n",
        "fig, ax = plt.subplots(figsize=(5,3))\n",
        "plt.bar(df1.index,df1.values)\n",
        "\n",
        "#arrange\n",
        "plt.ylabel('% of instances')\n",
        "plt.xlabel('Emotion')\n",
        "plt.title('Emotion distribution')\n",
        "plt.grid(True)\n",
        "plt.show()"
      ]
    },
    {
      "cell_type": "markdown",
      "metadata": {
        "id": "B_jGcireYTpo"
      },
      "source": [
        "---"
      ]
    },
    {
      "cell_type": "markdown",
      "metadata": {
        "id": "hgHvhTJuYTpo"
      },
      "source": [
        "## 2. Feature engineering\n",
        "### Using Bag of Words\n",
        "Using scikit-learn ```CountVectorizer``` perform word frequency and use these as features to train a model.  \n",
        "http://scikit-learn.org/stable/modules/generated/sklearn.feature_extraction.text.CountVectorizer.html"
      ]
    },
    {
      "cell_type": "code",
      "execution_count": null,
      "metadata": {
        "id": "rbl89LPUYTpo"
      },
      "outputs": [],
      "source": [
        "from sklearn.feature_extraction.text import CountVectorizer"
      ]
    },
    {
      "cell_type": "code",
      "execution_count": null,
      "metadata": {
        "id": "Bo8_GP6qYTpo"
      },
      "outputs": [],
      "source": [
        "# build analyzers (bag-of-words)\n",
        "BOW_vectorizer = CountVectorizer() "
      ]
    },
    {
      "cell_type": "code",
      "execution_count": null,
      "metadata": {
        "id": "Bz_m0xn7YTpo"
      },
      "outputs": [],
      "source": [
        "# 1. Learn a vocabulary dictionary of all tokens in the raw documents.\n",
        "BOW_vectorizer.fit(train_df['text'])\n",
        "\n",
        "# 2. Transform documents to document-term matrix.\n",
        "train_data_BOW_features = BOW_vectorizer.transform(train_df['text'])\n",
        "test_data_BOW_features = BOW_vectorizer.transform(test_df['text'])"
      ]
    },
    {
      "cell_type": "code",
      "execution_count": null,
      "metadata": {
        "colab": {
          "base_uri": "https://localhost:8080/"
        },
        "id": "5cpCUVN8YTpo",
        "outputId": "80a3afe3-c2da-408c-e5e4-f34d660d9702"
      },
      "outputs": [
        {
          "output_type": "execute_result",
          "data": {
            "text/plain": [
              "<3613x10115 sparse matrix of type '<class 'numpy.int64'>'\n",
              "\twith 51467 stored elements in Compressed Sparse Row format>"
            ]
          },
          "metadata": {},
          "execution_count": 17
        }
      ],
      "source": [
        "# check the result\n",
        "train_data_BOW_features"
      ]
    },
    {
      "cell_type": "code",
      "execution_count": null,
      "metadata": {
        "colab": {
          "base_uri": "https://localhost:8080/"
        },
        "id": "irGLsag-YTpo",
        "outputId": "5b5baba6-5a24-4919-98ce-2e0c5feb7dd5"
      },
      "outputs": [
        {
          "output_type": "execute_result",
          "data": {
            "text/plain": [
              "scipy.sparse.csr.csr_matrix"
            ]
          },
          "metadata": {},
          "execution_count": 18
        }
      ],
      "source": [
        "type(train_data_BOW_features)"
      ]
    },
    {
      "cell_type": "code",
      "execution_count": null,
      "metadata": {
        "colab": {
          "base_uri": "https://localhost:8080/"
        },
        "id": "WqbR8KWNYTpo",
        "outputId": "da7b2b9e-69ec-44a7-bd8a-856f80b6e5f3",
        "scrolled": true
      },
      "outputs": [
        {
          "output_type": "execute_result",
          "data": {
            "text/plain": [
              "array([[0, 0, 0, ..., 0, 0, 0],\n",
              "       [0, 0, 0, ..., 0, 0, 0],\n",
              "       [0, 0, 0, ..., 0, 0, 0],\n",
              "       ...,\n",
              "       [0, 0, 0, ..., 0, 0, 0],\n",
              "       [0, 0, 0, ..., 0, 0, 0],\n",
              "       [0, 0, 0, ..., 0, 0, 0]])"
            ]
          },
          "metadata": {},
          "execution_count": 19
        }
      ],
      "source": [
        "# add .toarray() to show\n",
        "train_data_BOW_features.toarray()"
      ]
    },
    {
      "cell_type": "code",
      "execution_count": null,
      "metadata": {
        "colab": {
          "base_uri": "https://localhost:8080/"
        },
        "id": "mL0xkGyGYTpo",
        "outputId": "dedcb1d3-34ac-4c97-e4f4-43bb588e131c",
        "scrolled": false
      },
      "outputs": [
        {
          "output_type": "execute_result",
          "data": {
            "text/plain": [
              "(3613, 10115)"
            ]
          },
          "metadata": {},
          "execution_count": 20
        }
      ],
      "source": [
        "# check the dimension\n",
        "train_data_BOW_features.shape"
      ]
    },
    {
      "cell_type": "code",
      "execution_count": null,
      "metadata": {
        "colab": {
          "base_uri": "https://localhost:8080/"
        },
        "id": "iyRaxyBZYTpo",
        "outputId": "8fbb032d-0c5c-4099-a17e-64713ab6b786"
      },
      "outputs": [
        {
          "output_type": "execute_result",
          "data": {
            "text/plain": [
              "array(['2k17', '2much', '2nd', '30', '300', '301', '30am', '30pm', '30s',\n",
              "       '31'], dtype=object)"
            ]
          },
          "metadata": {},
          "execution_count": 21
        }
      ],
      "source": [
        "# observe some feature names\n",
        "feature_names = BOW_vectorizer.get_feature_names_out()\n",
        "feature_names[100:110]"
      ]
    },
    {
      "cell_type": "markdown",
      "metadata": {
        "id": "zm00p_sxYTpo"
      },
      "source": [
        " "
      ]
    },
    {
      "cell_type": "markdown",
      "metadata": {
        "id": "roSfgQKaYTpo"
      },
      "source": [
        "The embedding is done. We can technically feed this into our model. However, depending on the embedding technique you use and your model, your accuracy might not be as high, because:\n",
        "\n",
        "* curse of dimensionality  (we have 10,115 dimension now)\n",
        "* some important features are ignored (for example, some models using emoticons yeld better performance than counterparts)"
      ]
    },
    {
      "cell_type": "code",
      "execution_count": null,
      "metadata": {
        "colab": {
          "base_uri": "https://localhost:8080/"
        },
        "id": "kx4YPbrdYTpo",
        "outputId": "714f9c74-87b4-43bb-e001-ac78c2eddb0d"
      },
      "outputs": [
        {
          "output_type": "execute_result",
          "data": {
            "text/plain": [
              "False"
            ]
          },
          "metadata": {},
          "execution_count": 22
        }
      ],
      "source": [
        "\"😂\" in feature_names"
      ]
    },
    {
      "cell_type": "markdown",
      "metadata": {
        "id": "0MFzyA95YTpo"
      },
      "source": [
        "Let's try using another tokenizer below."
      ]
    },
    {
      "cell_type": "code",
      "source": [
        "import nltk\n",
        "nltk.download('punkt')\n"
      ],
      "metadata": {
        "colab": {
          "base_uri": "https://localhost:8080/"
        },
        "id": "RwYQ7q3-SzeM",
        "outputId": "2aead75d-2f26-45ea-ab2f-8092b601c43b"
      },
      "execution_count": null,
      "outputs": [
        {
          "output_type": "stream",
          "name": "stderr",
          "text": [
            "[nltk_data] Downloading package punkt to /root/nltk_data...\n",
            "[nltk_data]   Unzipping tokenizers/punkt.zip.\n"
          ]
        },
        {
          "output_type": "execute_result",
          "data": {
            "text/plain": [
              "True"
            ]
          },
          "metadata": {},
          "execution_count": 23
        }
      ]
    },
    {
      "cell_type": "code",
      "execution_count": null,
      "metadata": {
        "colab": {
          "base_uri": "https://localhost:8080/"
        },
        "id": "SttodxACYTpo",
        "outputId": "972bbcfd-3efe-4bbb-ddd8-ed30f6481212"
      },
      "outputs": [
        {
          "output_type": "stream",
          "name": "stderr",
          "text": [
            "/usr/local/lib/python3.7/dist-packages/sklearn/feature_extraction/text.py:517: UserWarning: The parameter 'token_pattern' will not be used since 'tokenizer' is not None'\n",
            "  \"The parameter 'token_pattern' will not be used\"\n"
          ]
        },
        {
          "output_type": "execute_result",
          "data": {
            "text/plain": [
              "(3613, 500)"
            ]
          },
          "metadata": {},
          "execution_count": 24
        }
      ],
      "source": [
        "\n",
        "\n",
        "# build analyzers (bag-of-words)\n",
        "BOW_500 = CountVectorizer(max_features=500, tokenizer=nltk.word_tokenize) \n",
        "\n",
        "# apply analyzer to training data\n",
        "BOW_500.fit(train_df['text'])\n",
        "\n",
        "train_data_BOW_features_500 = BOW_500.transform(train_df['text'])\n",
        "\n",
        "## check dimension\n",
        "train_data_BOW_features_500.shape"
      ]
    },
    {
      "cell_type": "code",
      "execution_count": null,
      "metadata": {
        "colab": {
          "base_uri": "https://localhost:8080/"
        },
        "id": "sPi42W0pYTpo",
        "outputId": "932ae0b7-49d9-400c-aff8-fea85b9cb7e7"
      },
      "outputs": [
        {
          "output_type": "execute_result",
          "data": {
            "text/plain": [
              "array([[0, 0, 0, ..., 0, 0, 0],\n",
              "       [0, 0, 0, ..., 0, 0, 0],\n",
              "       [0, 0, 0, ..., 0, 0, 0],\n",
              "       ...,\n",
              "       [1, 1, 0, ..., 0, 0, 0],\n",
              "       [0, 4, 0, ..., 0, 0, 0],\n",
              "       [0, 0, 0, ..., 0, 0, 0]])"
            ]
          },
          "metadata": {},
          "execution_count": 25
        }
      ],
      "source": [
        "train_data_BOW_features_500.toarray()"
      ]
    },
    {
      "cell_type": "code",
      "execution_count": null,
      "metadata": {
        "colab": {
          "base_uri": "https://localhost:8080/"
        },
        "id": "JCgAnTOfYTpo",
        "outputId": "d06b503b-6647-4ed4-994b-75b3d018d38d"
      },
      "outputs": [
        {
          "output_type": "execute_result",
          "data": {
            "text/plain": [
              "array(['change', 'cheer', 'cheerful', 'cheerfully', 'cheering', 'cheery',\n",
              "       'come', 'comes', 'could', 'country'], dtype=object)"
            ]
          },
          "metadata": {},
          "execution_count": 26
        }
      ],
      "source": [
        "# observe some feature names\n",
        "feature_names_500 = BOW_500.get_feature_names_out()\n",
        "feature_names_500[100:110]"
      ]
    },
    {
      "cell_type": "code",
      "execution_count": null,
      "metadata": {
        "colab": {
          "base_uri": "https://localhost:8080/"
        },
        "id": "ubgedNi4YTpo",
        "outputId": "2a82ef36-bebd-4515-9e95-562bcd42fa86"
      },
      "outputs": [
        {
          "output_type": "execute_result",
          "data": {
            "text/plain": [
              "True"
            ]
          },
          "metadata": {},
          "execution_count": 27
        }
      ],
      "source": [
        "\"😂\" in feature_names_500"
      ]
    },
    {
      "cell_type": "markdown",
      "metadata": {
        "id": "fj6TV4ngYTpo"
      },
      "source": [
        "---\n",
        "### ** >>> Exercise 2 (Take home): **  \n",
        "Generate an embedding using the TF-IDF vectorizer instead of th BOW one with 1000 features and show the feature names for features [100:110]."
      ]
    },
    {
      "cell_type": "code",
      "execution_count": null,
      "metadata": {
        "id": "BOjVbgmxYTpo",
        "colab": {
          "base_uri": "https://localhost:8080/"
        },
        "outputId": "51828698-99f1-4c45-eb4e-76e57e7b10b7"
      },
      "outputs": [
        {
          "output_type": "execute_result",
          "data": {
            "text/plain": [
              "array(['2k17', '2much', '2nd', '30', '300', '301', '30am', '30pm', '30s',\n",
              "       '31'], dtype=object)"
            ]
          },
          "metadata": {},
          "execution_count": 28
        }
      ],
      "source": [
        "# Answer here\n",
        "from sklearn.feature_extraction.text import TfidfVectorizer\n",
        "vectorizer = TfidfVectorizer()\n",
        "X = vectorizer.fit_transform(train_df['text'])\n",
        "tmp = vectorizer.get_feature_names_out()\n",
        "tmp[100:110]\n"
      ]
    },
    {
      "cell_type": "markdown",
      "metadata": {
        "id": "e0BvbNAVYTpo"
      },
      "source": [
        "---\n",
        "## 3. Model\n",
        "### 3.1 Decision Trees\n",
        "Using scikit-learn ```DecisionTreeClassifier``` performs word frequency and uses these as features to train a model.  \n",
        "http://scikit-learn.org/stable/modules/generated/sklearn.tree.DecisionTreeClassifier.html#sklearn.tree.DecisionTreeClassifier"
      ]
    },
    {
      "cell_type": "code",
      "execution_count": null,
      "metadata": {
        "colab": {
          "base_uri": "https://localhost:8080/"
        },
        "id": "SD0rMWKgYTpo",
        "outputId": "3f27268d-164c-45ae-98df-a0de45691836"
      },
      "outputs": [
        {
          "output_type": "stream",
          "name": "stdout",
          "text": [
            "X_train.shape:  (3613, 500)\n",
            "y_train.shape:  (3613,)\n",
            "X_test.shape:  (347, 500)\n",
            "y_test.shape:  (347,)\n"
          ]
        }
      ],
      "source": [
        "from sklearn.tree import DecisionTreeClassifier\n",
        "\n",
        "# for a classificaiton problem, you need to provide both training & testing data\n",
        "X_train = BOW_500.transform(train_df['text'])\n",
        "y_train = train_df['emotion']\n",
        "\n",
        "X_test = BOW_500.transform(test_df['text'])\n",
        "y_test = test_df['emotion']\n",
        "\n",
        "## take a look at data dimension is a good habit  :)\n",
        "print('X_train.shape: ', X_train.shape)\n",
        "print('y_train.shape: ', y_train.shape)\n",
        "print('X_test.shape: ', X_test.shape)\n",
        "print('y_test.shape: ', y_test.shape)"
      ]
    },
    {
      "cell_type": "code",
      "execution_count": null,
      "metadata": {
        "colab": {
          "base_uri": "https://localhost:8080/"
        },
        "id": "iDuvLf7TYTpo",
        "outputId": "53d1a6f3-3dbd-45fd-ad78-a0e87eaab437"
      },
      "outputs": [
        {
          "output_type": "execute_result",
          "data": {
            "text/plain": [
              "array(['joy', 'fear', 'joy', 'fear', 'joy', 'fear', 'sadness', 'anger',\n",
              "       'sadness', 'sadness'], dtype=object)"
            ]
          },
          "metadata": {},
          "execution_count": 30
        }
      ],
      "source": [
        "## build DecisionTree model\n",
        "DT_model = DecisionTreeClassifier(random_state=1)\n",
        "\n",
        "## training!\n",
        "DT_model = DT_model.fit(X_train, y_train)\n",
        "\n",
        "## predict!\n",
        "y_train_pred = DT_model.predict(X_train)\n",
        "y_test_pred = DT_model.predict(X_test)\n",
        "\n",
        "## so we get the pred result\n",
        "y_test_pred[:10]"
      ]
    },
    {
      "cell_type": "markdown",
      "metadata": {
        "id": "zqZHlDjxYTpo"
      },
      "source": [
        " "
      ]
    },
    {
      "cell_type": "markdown",
      "metadata": {
        "id": "iBNmBT50YTpo"
      },
      "source": [
        "---\n",
        "## 4. Results Evaluation"
      ]
    },
    {
      "cell_type": "markdown",
      "metadata": {
        "id": "-gQU_PbhYTpo"
      },
      "source": [
        "Now we will check the results of our model's performance"
      ]
    },
    {
      "cell_type": "code",
      "execution_count": null,
      "metadata": {
        "colab": {
          "base_uri": "https://localhost:8080/"
        },
        "id": "A9yx3tv-YTpo",
        "outputId": "3c2173c2-2c07-4b99-8820-5da3b3467638"
      },
      "outputs": [
        {
          "output_type": "stream",
          "name": "stdout",
          "text": [
            "training accuracy: 0.99\n",
            "testing accuracy: 0.68\n"
          ]
        }
      ],
      "source": [
        "## accuracy\n",
        "from sklearn.metrics import accuracy_score\n",
        "\n",
        "acc_train = accuracy_score(y_true=y_train, y_pred=y_train_pred)\n",
        "acc_test = accuracy_score(y_true=y_test, y_pred=y_test_pred)\n",
        "\n",
        "print('training accuracy: {}'.format(round(acc_train, 2)))\n",
        "print('testing accuracy: {}'.format(round(acc_test, 2)))\n"
      ]
    },
    {
      "cell_type": "code",
      "execution_count": null,
      "metadata": {
        "colab": {
          "base_uri": "https://localhost:8080/"
        },
        "id": "-wkOqjqiYTpo",
        "outputId": "81cbde13-1497-45d0-af5a-6da7ea6ca2d3"
      },
      "outputs": [
        {
          "output_type": "stream",
          "name": "stdout",
          "text": [
            "              precision    recall  f1-score   support\n",
            "\n",
            "       anger       0.66      0.68      0.67        84\n",
            "        fear       0.66      0.69      0.67       110\n",
            "         joy       0.72      0.71      0.71        79\n",
            "     sadness       0.70      0.64      0.67        74\n",
            "\n",
            "    accuracy                           0.68       347\n",
            "   macro avg       0.68      0.68      0.68       347\n",
            "weighted avg       0.68      0.68      0.68       347\n",
            "\n"
          ]
        }
      ],
      "source": [
        "## precision, recall, f1-score,\n",
        "from sklearn.metrics import classification_report\n",
        "\n",
        "print(classification_report(y_true=y_test, y_pred=y_test_pred))"
      ]
    },
    {
      "cell_type": "code",
      "execution_count": null,
      "metadata": {
        "colab": {
          "base_uri": "https://localhost:8080/"
        },
        "id": "N6mhrmKHYTpo",
        "outputId": "b202bec6-dd24-4184-b34e-99d31570c460"
      },
      "outputs": [
        {
          "output_type": "stream",
          "name": "stdout",
          "text": [
            "[[57 18  6  3]\n",
            " [16 76  9  9]\n",
            " [ 6  9 56  8]\n",
            " [ 7 13  7 47]]\n"
          ]
        }
      ],
      "source": [
        "## check by confusion matrix\n",
        "from sklearn.metrics import confusion_matrix\n",
        "\n",
        "cm = confusion_matrix(y_true=y_test, y_pred=y_test_pred) \n",
        "print(cm)"
      ]
    },
    {
      "cell_type": "code",
      "execution_count": null,
      "metadata": {
        "id": "-TcX8NA5YTpo"
      },
      "outputs": [],
      "source": [
        "# Funciton for visualizing confusion_matrix\n",
        "import matplotlib.pyplot as plt\n",
        "import seaborn as sns\n",
        "import numpy as np\n",
        "import itertools\n",
        "\n",
        "def plot_confusion_matrix(cm, classes, title='Confusion matrix',\n",
        "                          cmap=sns.cubehelix_palette(as_cmap=True)):\n",
        "    \"\"\"\n",
        "    This function is modified from: \n",
        "    http://scikit-learn.org/stable/auto_examples/model_selection/plot_confusion_matrix.html\n",
        "    \"\"\"\n",
        "    classes.sort()\n",
        "    tick_marks = np.arange(len(classes))    \n",
        "    \n",
        "    fig, ax = plt.subplots(figsize=(5,5))\n",
        "    im = ax.imshow(cm, interpolation='nearest', cmap=cmap)\n",
        "    ax.figure.colorbar(im, ax=ax)\n",
        "    ax.set(xticks=np.arange(cm.shape[1]),\n",
        "           yticks=np.arange(cm.shape[0]),\n",
        "           xticklabels = classes,\n",
        "           yticklabels = classes,\n",
        "           title = title,\n",
        "           xlabel = 'True label',\n",
        "           ylabel = 'Predicted label')\n",
        "\n",
        "    fmt = 'd'\n",
        "    thresh = cm.max() / 2.\n",
        "    for i, j in itertools.product(range(cm.shape[0]), range(cm.shape[1])):\n",
        "        plt.text(j, i, format(cm[i, j], fmt), horizontalalignment=\"center\", color=\"white\" if cm[i, j] > thresh else \"black\")\n",
        "    ylim_top = len(classes) - 0.5\n",
        "    plt.ylim([ylim_top, -.5])\n",
        "    plt.tight_layout()\n",
        "    plt.show()"
      ]
    },
    {
      "cell_type": "code",
      "execution_count": null,
      "metadata": {
        "colab": {
          "base_uri": "https://localhost:8080/",
          "height": 363
        },
        "id": "1nBVOUpDYTpo",
        "outputId": "49f0a4b8-5ecf-4819-ebf7-271195c3e7c8"
      },
      "outputs": [
        {
          "output_type": "display_data",
          "data": {
            "text/plain": [
              "<Figure size 360x360 with 2 Axes>"
            ],
            "image/png": "[encoded data removed]"
          },
          "metadata": {
            "needs_background": "light"
          }
        }
      ],
      "source": [
        "# plot your confusion matrix\n",
        "my_tags = ['anger', 'fear', 'joy', 'sadness']\n",
        "plot_confusion_matrix(cm, classes=my_tags, title='Confusion matrix')"
      ]
    },
    {
      "cell_type": "markdown",
      "metadata": {
        "id": "l743vmwgYTpo"
      },
      "source": [
        "---\n",
        "### ** >>> Exercise 3 (Take home): **  \n",
        "Can you interpret the results above? What do they mean?"
      ]
    },
    {
      "cell_type": "markdown",
      "source": [
        "\n",
        "Diagonal blocks means that the prediction label hits the real label. For example, 57 is the prediction \"anger\" and the real label is also anger.\n",
        "Others are wrong predictions. For example, the 16 under 57 is the prediction of \"fear\" and the real label is the anger, and so on."
      ],
      "metadata": {
        "id": "4Y6pTFrrWkjQ"
      }
    },
    {
      "cell_type": "markdown",
      "metadata": {
        "id": "GaHpgl87YTpo"
      },
      "source": [
        "---\n",
        "### ** >>> Exercise 4 (Take home): **  \n",
        "Build a model using a ```Naive Bayes``` model and train it. What are the testing results? \n",
        "\n",
        "*Reference*: https://scikit-learn.org/stable/modules/generated/sklearn.naive_bayes.MultinomialNB.html"
      ]
    },
    {
      "cell_type": "code",
      "execution_count": null,
      "metadata": {
        "id": "ZPvaHzpXYTpo",
        "colab": {
          "base_uri": "https://localhost:8080/"
        },
        "outputId": "f816a208-bc01-414e-8821-5bd94daab4d5"
      },
      "outputs": [
        {
          "output_type": "execute_result",
          "data": {
            "text/plain": [
              "array(['sadness', 'fear', 'joy', 'anger', 'joy', 'anger', 'joy', 'anger',\n",
              "       'sadness', 'sadness'], dtype='<U7')"
            ]
          },
          "metadata": {},
          "execution_count": 36
        }
      ],
      "source": [
        "# Answer here\n",
        "from sklearn.naive_bayes import MultinomialNB\n",
        "MNB_model = MultinomialNB()\n",
        "\n",
        "## training!\n",
        "MNB_model = MNB_model.fit(X_train, y_train)\n",
        "\n",
        "## predict!\n",
        "yMNB_train_pred = MNB_model.predict(X_train)\n",
        "yMNB_test_pred = MNB_model.predict(X_test)\n",
        "\n",
        "## so we get the pred result\n",
        "\n",
        "yMNB_test_pred[:10]"
      ]
    },
    {
      "cell_type": "code",
      "source": [
        "acc_train = accuracy_score(y_true=y_train, y_pred=yMNB_train_pred)\n",
        "acc_test = accuracy_score(y_true=y_test, y_pred=yMNB_test_pred)\n",
        "\n",
        "print('training accuracy: {}'.format(round(acc_train, 2)))\n",
        "print('testing accuracy: {}'.format(round(acc_test, 2)))"
      ],
      "metadata": {
        "colab": {
          "base_uri": "https://localhost:8080/"
        },
        "id": "UOT_O0LXZHKS",
        "outputId": "07fde3d3-3311-490d-9589-1e06c8a685f2"
      },
      "execution_count": null,
      "outputs": [
        {
          "output_type": "stream",
          "name": "stdout",
          "text": [
            "training accuracy: 0.79\n",
            "testing accuracy: 0.7\n"
          ]
        }
      ]
    },
    {
      "cell_type": "code",
      "source": [
        "print(classification_report(y_true=y_test, y_pred=yMNB_test_pred))"
      ],
      "metadata": {
        "colab": {
          "base_uri": "https://localhost:8080/"
        },
        "id": "9S9MrWYHZHNV",
        "outputId": "9f160be1-874c-49b4-d228-e3ccdade71b0"
      },
      "execution_count": null,
      "outputs": [
        {
          "output_type": "stream",
          "name": "stdout",
          "text": [
            "              precision    recall  f1-score   support\n",
            "\n",
            "       anger       0.63      0.65      0.64        84\n",
            "        fear       0.73      0.77      0.75       110\n",
            "         joy       0.78      0.71      0.74        79\n",
            "     sadness       0.64      0.62      0.63        74\n",
            "\n",
            "    accuracy                           0.70       347\n",
            "   macro avg       0.70      0.69      0.69       347\n",
            "weighted avg       0.70      0.70      0.70       347\n",
            "\n"
          ]
        }
      ]
    },
    {
      "cell_type": "code",
      "source": [
        "cmMNB = confusion_matrix(y_true=y_test, y_pred=yMNB_test_pred) \n",
        "\n",
        "print(\"Decicion Tree\")\n",
        "print()\n",
        "print(cm)\n",
        "print()\n",
        "print(\"Naive Based Model\")\n",
        "print()\n",
        "print(cmMNB)"
      ],
      "metadata": {
        "colab": {
          "base_uri": "https://localhost:8080/"
        },
        "id": "8vIRcBw9bWlh",
        "outputId": "09a4bb97-b1c4-454f-ca5c-92409bce48dc"
      },
      "execution_count": null,
      "outputs": [
        {
          "output_type": "stream",
          "name": "stdout",
          "text": [
            "Decicion Tree\n",
            "\n",
            "[[57 18  6  3]\n",
            " [16 76  9  9]\n",
            " [ 6  9 56  8]\n",
            " [ 7 13  7 47]]\n",
            "\n",
            "Naive Based Model\n",
            "\n",
            "[[55 15  5  9]\n",
            " [ 9 85  5 11]\n",
            " [11  6 56  6]\n",
            " [12 10  6 46]]\n"
          ]
        }
      ]
    },
    {
      "cell_type": "markdown",
      "metadata": {
        "id": "Xv2DqWQSYTpo"
      },
      "source": [
        "---\n",
        "### ** >>> Exercise 5 (Take home): **  \n",
        "\n",
        "How do the results from the Naive Bayes model and the Decision Tree model compare? How do you interpret these differences? Use the theoretical background covered in class to try and explain these differences."
      ]
    },
    {
      "cell_type": "markdown",
      "source": [
        "For evaluation, because the training data is repetitive, the training accuracy and loss is not important at all. We need to focus on the testing and validation results.\n",
        "\n",
        "Naive Based Model outperformed Decision Tree on   **testing accuracy**  : 0.7 > 0.68\n",
        "\n",
        "Naive Based Model outperformed Decision Tree on  **recall** : 0.7 > 0.68\n",
        "\n",
        "Naive Based Model outperformed Decision Tree on  **f1-score** : 0.7 > 0.68\n",
        "\n",
        "From the result we can tell, in this case,  Naive Based Model is better than Decision tree\n"
      ],
      "metadata": {
        "id": "MTq6RUTGd09e"
      }
    },
    {
      "cell_type": "markdown",
      "metadata": {
        "id": "ehlJ60lhYTpo"
      },
      "source": [
        "---"
      ]
    },
    {
      "cell_type": "markdown",
      "metadata": {
        "id": "79F_DaW-YTpo"
      },
      "source": [
        "## 5. Other things you can try"
      ]
    },
    {
      "cell_type": "markdown",
      "metadata": {
        "id": "_oeqpRu6YTpo"
      },
      "source": [
        "Thus, there are several things you can try that will affect your results. In order to yield better results, you can experiment by: \n",
        "- Trying different features (Feature engineering)e.g Word2Vec, PCA, LDA, FastText, Clustering\n",
        "- Trying different models\n",
        "- Analyzing your results and interpret them to improve your feature engineering/model building process\n",
        "- Iterate through the steps above until finding a satisfying result\n",
        "\n",
        "Remember that you should also consider the task at hand and the model you'll feed the data to. "
      ]
    },
    {
      "cell_type": "markdown",
      "metadata": {
        "id": "fiGUSmPLYTpo"
      },
      "source": [
        "---\n",
        "## 6. Deep Learning\n",
        "\n",
        "We use [Keras](https://keras.io/) to be our deep learning framwork, and follow the [Model (functional API)](https://keras.io/models/model/) to build a Deep Neural Network (DNN) model. Keras runs with Tensorflow in the backend. It's a nice abstraction to start working with NN models. \n",
        "\n",
        "Because Deep Learning is a 1-semester course, we can't talk about each detail about it in the lab session. Here, we only provide a simple template about how to build & run a DL model successfully. You can follow this template to design your model.\n",
        "\n",
        "We will begin by building a fully connected network, which looks like this:"
      ]
    },
    {
      "cell_type": "markdown",
      "metadata": {
        "id": "1nB0BTq2YTpo"
      },
      "source": [
        "![Fully Connected Network](pics/pic1.png)\n",
        "\n",
        "(source: https://github.com/drewnoff/spark-notebook-ml-labs/tree/master/labs/DLFramework)\n"
      ]
    },
    {
      "cell_type": "markdown",
      "metadata": {
        "id": "-EtVRGhNYTpo"
      },
      "source": [
        "### 6.1 Prepare data (X, y)"
      ]
    },
    {
      "cell_type": "code",
      "source": [
        "train_df['text'].shape"
      ],
      "metadata": {
        "colab": {
          "base_uri": "https://localhost:8080/"
        },
        "id": "XHQdVfs5Vmrj",
        "outputId": "b8b5c3fd-42e0-4d32-d6c1-e969b1a20080"
      },
      "execution_count": null,
      "outputs": [
        {
          "output_type": "execute_result",
          "data": {
            "text/plain": [
              "(3613,)"
            ]
          },
          "metadata": {},
          "execution_count": 50
        }
      ]
    },
    {
      "cell_type": "code",
      "execution_count": null,
      "metadata": {
        "colab": {
          "base_uri": "https://localhost:8080/"
        },
        "id": "4mIdg2D6YTpo",
        "outputId": "f53d026f-c674-44aa-c744-df794c4ecb4b"
      },
      "outputs": [
        {
          "output_type": "stream",
          "name": "stdout",
          "text": [
            "X_train.shape:  (3613, 500)\n",
            "y_train.shape:  (3613,)\n",
            "X_test.shape:  (347, 500)\n",
            "y_test.shape:  (347,)\n"
          ]
        }
      ],
      "source": [
        "import keras\n",
        "\n",
        "# standardize name (X, y) \n",
        "X_train = BOW_500.transform(train_df['text'])\n",
        "y_train = train_df['emotion']\n",
        "\n",
        "X_test = BOW_500.transform(test_df['text'])\n",
        "y_test = test_df['emotion']\n",
        "\n",
        "## check dimension is a good habbit \n",
        "print('X_train.shape: ', X_train.shape)\n",
        "print('y_train.shape: ', y_train.shape)\n",
        "print('X_test.shape: ', X_test.shape)\n",
        "print('y_test.shape: ', y_test.shape)"
      ]
    },
    {
      "cell_type": "markdown",
      "metadata": {
        "id": "iBZZedZ2YTpo"
      },
      "source": [
        "### 6.2 Deal with categorical label (y)\n",
        "\n",
        "Rather than put your label `train_df['emotion']` directly into a model, we have to process these categorical (or say nominal) label by ourselves. \n",
        "\n",
        "Here, we use the basic method [one-hot encoding](https://en.wikipedia.org/wiki/One-hot) to transform our categorical  labels to numerical ones.\n"
      ]
    },
    {
      "cell_type": "code",
      "execution_count": null,
      "metadata": {
        "colab": {
          "base_uri": "https://localhost:8080/"
        },
        "id": "SU95MCsSYTpo",
        "outputId": "1d2aba03-f8e1-413f-b11d-f112f2efbc56"
      },
      "outputs": [
        {
          "output_type": "stream",
          "name": "stdout",
          "text": [
            "check label:  ['anger' 'fear' 'joy' 'sadness']\n",
            "\n",
            "## Before convert\n",
            "y_train[0:4]:\n",
            " 1226     fear\n",
            "976      fear\n",
            "171     anger\n",
            "919      fear\n",
            "Name: emotion, dtype: object\n",
            "\n",
            "y_train.shape:  (3613,)\n",
            "y_test.shape:  (347,)\n",
            "\n",
            "\n",
            "## After convert\n",
            "y_train[0:4]:\n",
            " [[0. 1. 0. 0.]\n",
            " [0. 1. 0. 0.]\n",
            " [1. 0. 0. 0.]\n",
            " [0. 1. 0. 0.]]\n",
            "\n",
            "y_train.shape:  (3613, 4)\n",
            "y_test.shape:  (347, 4)\n"
          ]
        }
      ],
      "source": [
        "## deal with label (string -> one-hot)\n",
        "\n",
        "from sklearn.preprocessing import LabelEncoder\n",
        "\n",
        "label_encoder = LabelEncoder()\n",
        "label_encoder.fit(y_train)\n",
        "print('check label: ', label_encoder.classes_)\n",
        "print('\\n## Before convert')\n",
        "print('y_train[0:4]:\\n', y_train[0:4])\n",
        "print('\\ny_train.shape: ', y_train.shape)\n",
        "print('y_test.shape: ', y_test.shape)\n",
        "\n",
        "def label_encode(le, labels):\n",
        "    enc = le.transform(labels)\n",
        "    return keras.utils.to_categorical(enc)\n",
        "\n",
        "def label_decode(le, one_hot_label):\n",
        "    dec = np.argmax(one_hot_label, axis=1)\n",
        "    return le.inverse_transform(dec)\n",
        "\n",
        "y_train = label_encode(label_encoder, y_train)\n",
        "y_test = label_encode(label_encoder, y_test)\n",
        "\n",
        "print('\\n\\n## After convert')\n",
        "print('y_train[0:4]:\\n', y_train[0:4])\n",
        "print('\\ny_train.shape: ', y_train.shape)\n",
        "print('y_test.shape: ', y_test.shape)\n"
      ]
    },
    {
      "cell_type": "markdown",
      "metadata": {
        "id": "W4bqEcMbYTpo"
      },
      "source": [
        "### 6.3 Build model"
      ]
    },
    {
      "cell_type": "code",
      "execution_count": null,
      "metadata": {
        "colab": {
          "base_uri": "https://localhost:8080/"
        },
        "id": "6sA7cx-oYTpo",
        "outputId": "625975fe-806c-4f86-d0d8-900f9e33c5ec"
      },
      "outputs": [
        {
          "output_type": "stream",
          "name": "stdout",
          "text": [
            "input_shape:  500\n",
            "output_shape:  4\n"
          ]
        }
      ],
      "source": [
        "# I/O check\n",
        "input_shape = X_train.shape[1]\n",
        "print('input_shape: ', input_shape)\n",
        "\n",
        "output_shape = len(label_encoder.classes_)\n",
        "print('output_shape: ', output_shape)"
      ]
    },
    {
      "cell_type": "markdown",
      "metadata": {
        "id": "8c-uWuloYTpo"
      },
      "source": [
        "![Imgur](pics/pic2.png)"
      ]
    },
    {
      "cell_type": "code",
      "execution_count": null,
      "metadata": {
        "colab": {
          "base_uri": "https://localhost:8080/"
        },
        "id": "jTeBWTvgYTpo",
        "outputId": "8056e5af-5577-4396-cbf1-b9e32e0d0f57"
      },
      "outputs": [
        {
          "output_type": "stream",
          "name": "stdout",
          "text": [
            "Model: \"model\"\n",
            "_________________________________________________________________\n",
            " Layer (type)                Output Shape              Param #   \n",
            "=================================================================\n",
            " input_1 (InputLayer)        [(None, 500)]             0         \n",
            "                                                                 \n",
            " dense (Dense)               (None, 64)                32064     \n",
            "                                                                 \n",
            " re_lu (ReLU)                (None, 64)                0         \n",
            "                                                                 \n",
            " dense_1 (Dense)             (None, 64)                4160      \n",
            "                                                                 \n",
            " re_lu_1 (ReLU)              (None, 64)                0         \n",
            "                                                                 \n",
            " dense_2 (Dense)             (None, 4)                 260       \n",
            "                                                                 \n",
            " softmax (Softmax)           (None, 4)                 0         \n",
            "                                                                 \n",
            "=================================================================\n",
            "Total params: 36,484\n",
            "Trainable params: 36,484\n",
            "Non-trainable params: 0\n",
            "_________________________________________________________________\n"
          ]
        }
      ],
      "source": [
        "from keras.models import Model\n",
        "from keras.layers import Input, Dense\n",
        "from keras.layers import ReLU, Softmax\n",
        "\n",
        "# input layer\n",
        "model_input = Input(shape=(input_shape, ))  # 500\n",
        "X = model_input\n",
        "\n",
        "# 1st hidden layer\n",
        "X_W1 = Dense(units=64)(X)  # 64\n",
        "H1 = ReLU()(X_W1)\n",
        "\n",
        "# 2nd hidden layer\n",
        "H1_W2 = Dense(units=64)(H1)  # 64\n",
        "H2 = ReLU()(H1_W2)\n",
        "\n",
        "# output layer\n",
        "H2_W3 = Dense(units=output_shape)(H2)  # 4\n",
        "H3 = Softmax()(H2_W3)\n",
        "\n",
        "model_output = H3\n",
        "\n",
        "# create model\n",
        "model = Model(inputs=[model_input], outputs=[model_output])\n",
        "\n",
        "# loss function & optimizer\n",
        "model.compile(optimizer='adam',\n",
        "              loss='categorical_crossentropy',\n",
        "              metrics=['accuracy'])\n",
        "\n",
        "# show model construction\n",
        "model.summary()"
      ]
    },
    {
      "cell_type": "markdown",
      "metadata": {
        "id": "nmTSDO2pYTpo"
      },
      "source": [
        "### 6.4 Train"
      ]
    },
    {
      "cell_type": "code",
      "execution_count": null,
      "metadata": {
        "colab": {
          "base_uri": "https://localhost:8080/"
        },
        "id": "Kl374LYqYTpo",
        "outputId": "6c9ab637-6926-429f-b1c9-dfd310f80706"
      },
      "outputs": [
        {
          "output_type": "stream",
          "name": "stdout",
          "text": [
            "Epoch 1/25\n"
          ]
        },
        {
          "output_type": "stream",
          "name": "stderr",
          "text": [
            "/usr/local/lib/python3.7/dist-packages/tensorflow/python/framework/indexed_slices.py:446: UserWarning: Converting sparse IndexedSlices(IndexedSlices(indices=Tensor(\"gradient_tape/model/dense/embedding_lookup_sparse/Reshape_1:0\", shape=(None,), dtype=int32), values=Tensor(\"gradient_tape/model/dense/embedding_lookup_sparse/Reshape:0\", shape=(None, 64), dtype=float32), dense_shape=Tensor(\"gradient_tape/model/dense/embedding_lookup_sparse/Cast:0\", shape=(2,), dtype=int32))) to a dense Tensor of unknown shape. This may consume a large amount of memory.\n",
            "  \"shape. This may consume a large amount of memory.\" % value)\n"
          ]
        },
        {
          "output_type": "stream",
          "name": "stdout",
          "text": [
            "113/113 [==============================] - 4s 13ms/step - loss: 1.3270 - accuracy: 0.3687 - val_loss: 1.2817 - val_accuracy: 0.4207\n",
            "Epoch 2/25\n",
            "113/113 [==============================] - 0s 4ms/step - loss: 0.9674 - accuracy: 0.6604 - val_loss: 0.9165 - val_accuracy: 0.6398\n",
            "Epoch 3/25\n",
            "113/113 [==============================] - 0s 3ms/step - loss: 0.5706 - accuracy: 0.7966 - val_loss: 0.7893 - val_accuracy: 0.6945\n",
            "Epoch 4/25\n",
            "113/113 [==============================] - 0s 4ms/step - loss: 0.4032 - accuracy: 0.8569 - val_loss: 0.7943 - val_accuracy: 0.6830\n",
            "Epoch 5/25\n",
            "113/113 [==============================] - 0s 3ms/step - loss: 0.3229 - accuracy: 0.8832 - val_loss: 0.8254 - val_accuracy: 0.6830\n",
            "Epoch 6/25\n",
            "113/113 [==============================] - 0s 4ms/step - loss: 0.2714 - accuracy: 0.9062 - val_loss: 0.8974 - val_accuracy: 0.6888\n",
            "Epoch 7/25\n",
            "113/113 [==============================] - 0s 3ms/step - loss: 0.2152 - accuracy: 0.9283 - val_loss: 1.0121 - val_accuracy: 0.6340\n",
            "Epoch 8/25\n",
            "113/113 [==============================] - 0s 3ms/step - loss: 0.1836 - accuracy: 0.9413 - val_loss: 0.9881 - val_accuracy: 0.6859\n",
            "Epoch 9/25\n",
            "113/113 [==============================] - 0s 3ms/step - loss: 0.1528 - accuracy: 0.9549 - val_loss: 1.0582 - val_accuracy: 0.6859\n",
            "Epoch 10/25\n",
            "113/113 [==============================] - 0s 3ms/step - loss: 0.1350 - accuracy: 0.9599 - val_loss: 1.1064 - val_accuracy: 0.6772\n",
            "Epoch 11/25\n",
            "113/113 [==============================] - 0s 3ms/step - loss: 0.1184 - accuracy: 0.9640 - val_loss: 1.1845 - val_accuracy: 0.6945\n",
            "Epoch 12/25\n",
            "113/113 [==============================] - 0s 3ms/step - loss: 0.1114 - accuracy: 0.9665 - val_loss: 1.2509 - val_accuracy: 0.6859\n",
            "Epoch 13/25\n",
            "113/113 [==============================] - 0s 3ms/step - loss: 0.1015 - accuracy: 0.9687 - val_loss: 1.2093 - val_accuracy: 0.6945\n",
            "Epoch 14/25\n",
            "113/113 [==============================] - 0s 3ms/step - loss: 0.0937 - accuracy: 0.9698 - val_loss: 1.3007 - val_accuracy: 0.6772\n",
            "Epoch 15/25\n",
            "113/113 [==============================] - 0s 3ms/step - loss: 0.0911 - accuracy: 0.9701 - val_loss: 1.2737 - val_accuracy: 0.6744\n",
            "Epoch 16/25\n",
            "113/113 [==============================] - 0s 3ms/step - loss: 0.0845 - accuracy: 0.9734 - val_loss: 1.3189 - val_accuracy: 0.6715\n",
            "Epoch 17/25\n",
            "113/113 [==============================] - 0s 3ms/step - loss: 0.0795 - accuracy: 0.9729 - val_loss: 1.3729 - val_accuracy: 0.6599\n",
            "Epoch 18/25\n",
            "113/113 [==============================] - 0s 3ms/step - loss: 0.0769 - accuracy: 0.9754 - val_loss: 1.3938 - val_accuracy: 0.6801\n",
            "Epoch 19/25\n",
            "113/113 [==============================] - 0s 3ms/step - loss: 0.0708 - accuracy: 0.9781 - val_loss: 1.4790 - val_accuracy: 0.6657\n",
            "Epoch 20/25\n",
            "113/113 [==============================] - 0s 4ms/step - loss: 0.0718 - accuracy: 0.9748 - val_loss: 1.4098 - val_accuracy: 0.6657\n",
            "Epoch 21/25\n",
            "113/113 [==============================] - 0s 3ms/step - loss: 0.0670 - accuracy: 0.9768 - val_loss: 1.4555 - val_accuracy: 0.6657\n",
            "Epoch 22/25\n",
            "113/113 [==============================] - 0s 3ms/step - loss: 0.0640 - accuracy: 0.9781 - val_loss: 1.5096 - val_accuracy: 0.6744\n",
            "Epoch 23/25\n",
            "113/113 [==============================] - 0s 3ms/step - loss: 0.0598 - accuracy: 0.9770 - val_loss: 1.5330 - val_accuracy: 0.6686\n",
            "Epoch 24/25\n",
            "113/113 [==============================] - 0s 3ms/step - loss: 0.0623 - accuracy: 0.9792 - val_loss: 1.5437 - val_accuracy: 0.6657\n",
            "Epoch 25/25\n",
            "113/113 [==============================] - 0s 3ms/step - loss: 0.0558 - accuracy: 0.9784 - val_loss: 1.5482 - val_accuracy: 0.6686\n",
            "training finish\n"
          ]
        }
      ],
      "source": [
        "from keras.callbacks import CSVLogger\n",
        "\n",
        "csv_logger = CSVLogger('/content/drive/My Drive/DM2022-Lab2-Master/logs/training_log.csv')\n",
        "\n",
        "# training setting\n",
        "epochs = 25\n",
        "batch_size = 32\n",
        "\n",
        "# training!\n",
        "history = model.fit(X_train, y_train, \n",
        "                    epochs=epochs, \n",
        "                    batch_size=batch_size, \n",
        "                    callbacks=[csv_logger],\n",
        "                    validation_data = (X_test, y_test))\n",
        "print('training finish')"
      ]
    },
    {
      "cell_type": "markdown",
      "metadata": {
        "id": "ip8RYsvSYTpo"
      },
      "source": [
        "### 6.5 Predict on testing data"
      ]
    },
    {
      "cell_type": "code",
      "execution_count": null,
      "metadata": {
        "colab": {
          "base_uri": "https://localhost:8080/"
        },
        "id": "xdnLuBYBYTpo",
        "outputId": "79b73bb2-1949-4964-b886-bd9eab391c64"
      },
      "outputs": [
        {
          "output_type": "stream",
          "name": "stdout",
          "text": [
            "3/3 [==============================] - 0s 5ms/step\n"
          ]
        },
        {
          "output_type": "execute_result",
          "data": {
            "text/plain": [
              "array([[3.36924498e-03, 1.64927151e-05, 9.25714895e-03, 9.87357140e-01],\n",
              "       [1.00296676e-01, 1.77175432e-01, 5.34130912e-03, 7.17186511e-01],\n",
              "       [5.46493254e-07, 2.22876656e-06, 9.99994934e-01, 2.26243810e-06],\n",
              "       [7.58952636e-04, 7.45247584e-04, 9.98097897e-01, 3.97892436e-04],\n",
              "       [9.94466944e-08, 1.08304476e-08, 9.99999821e-01, 3.53811878e-08]],\n",
              "      dtype=float32)"
            ]
          },
          "metadata": {},
          "execution_count": 45
        }
      ],
      "source": [
        "## predict\n",
        "pred_result = model.predict(X_test, batch_size=128)\n",
        "pred_result[:5]"
      ]
    },
    {
      "cell_type": "code",
      "execution_count": null,
      "metadata": {
        "colab": {
          "base_uri": "https://localhost:8080/"
        },
        "id": "hSaXGEX-YTpo",
        "outputId": "792082eb-8647-4f13-8c3a-38d8f6e78723"
      },
      "outputs": [
        {
          "output_type": "execute_result",
          "data": {
            "text/plain": [
              "array(['sadness', 'sadness', 'joy', 'joy', 'joy'], dtype=object)"
            ]
          },
          "metadata": {},
          "execution_count": 46
        }
      ],
      "source": [
        "pred_result = label_decode(label_encoder, pred_result)\n",
        "pred_result[:5]"
      ]
    },
    {
      "cell_type": "code",
      "execution_count": null,
      "metadata": {
        "colab": {
          "base_uri": "https://localhost:8080/"
        },
        "id": "bRRHye9KYTp5",
        "outputId": "79788f6f-b559-473e-c7f5-c1893a0d1fbc"
      },
      "outputs": [
        {
          "output_type": "stream",
          "name": "stdout",
          "text": [
            "testing accuracy: 0.67\n"
          ]
        }
      ],
      "source": [
        "from sklearn.metrics import accuracy_score\n",
        "\n",
        "print('testing accuracy: {}'.format(round(accuracy_score(label_decode(label_encoder, y_test), pred_result), 2)))"
      ]
    },
    {
      "cell_type": "code",
      "execution_count": null,
      "metadata": {
        "colab": {
          "base_uri": "https://localhost:8080/",
          "height": 358
        },
        "id": "ks2Q0aMsYTp5",
        "outputId": "df4e790c-9354-4629-8bc7-a16d6e1b93d7"
      },
      "outputs": [
        {
          "output_type": "error",
          "ename": "FileNotFoundError",
          "evalue": "ignored",
          "traceback": [
            "\u001b[0;31m---------------------------------------------------------------------------\u001b[0m",
            "\u001b[0;31mFileNotFoundError\u001b[0m                         Traceback (most recent call last)",
            "\u001b[0;32m<ipython-input-48-e59177130482>\u001b[0m in \u001b[0;36m<module>\u001b[0;34m\u001b[0m\n\u001b[1;32m      1\u001b[0m \u001b[0;31m#Let's take a look at the training log\u001b[0m\u001b[0;34m\u001b[0m\u001b[0;34m\u001b[0m\u001b[0;34m\u001b[0m\u001b[0m\n\u001b[1;32m      2\u001b[0m \u001b[0mtraining_log\u001b[0m \u001b[0;34m=\u001b[0m \u001b[0mpd\u001b[0m\u001b[0;34m.\u001b[0m\u001b[0mDataFrame\u001b[0m\u001b[0;34m(\u001b[0m\u001b[0;34m)\u001b[0m\u001b[0;34m\u001b[0m\u001b[0;34m\u001b[0m\u001b[0m\n\u001b[0;32m----> 3\u001b[0;31m \u001b[0mtraining_log\u001b[0m \u001b[0;34m=\u001b[0m \u001b[0mpd\u001b[0m\u001b[0;34m.\u001b[0m\u001b[0mread_csv\u001b[0m\u001b[0;34m(\u001b[0m\u001b[0;34m\"logs/training_log.csv\"\u001b[0m\u001b[0;34m)\u001b[0m\u001b[0;34m\u001b[0m\u001b[0;34m\u001b[0m\u001b[0m\n\u001b[0m\u001b[1;32m      4\u001b[0m \u001b[0mtraining_log\u001b[0m\u001b[0;34m\u001b[0m\u001b[0;34m\u001b[0m\u001b[0m\n",
            "\u001b[0;32m/usr/local/lib/python3.7/dist-packages/pandas/util/_decorators.py\u001b[0m in \u001b[0;36mwrapper\u001b[0;34m(*args, **kwargs)\u001b[0m\n\u001b[1;32m    309\u001b[0m                     \u001b[0mstacklevel\u001b[0m\u001b[0;34m=\u001b[0m\u001b[0mstacklevel\u001b[0m\u001b[0;34m,\u001b[0m\u001b[0;34m\u001b[0m\u001b[0;34m\u001b[0m\u001b[0m\n\u001b[1;32m    310\u001b[0m                 )\n\u001b[0;32m--> 311\u001b[0;31m             \u001b[0;32mreturn\u001b[0m \u001b[0mfunc\u001b[0m\u001b[0;34m(\u001b[0m\u001b[0;34m*\u001b[0m\u001b[0margs\u001b[0m\u001b[0;34m,\u001b[0m \u001b[0;34m**\u001b[0m\u001b[0mkwargs\u001b[0m\u001b[0;34m)\u001b[0m\u001b[0;34m\u001b[0m\u001b[0;34m\u001b[0m\u001b[0m\n\u001b[0m\u001b[1;32m    312\u001b[0m \u001b[0;34m\u001b[0m\u001b[0m\n\u001b[1;32m    313\u001b[0m         \u001b[0;32mreturn\u001b[0m \u001b[0mwrapper\u001b[0m\u001b[0;34m\u001b[0m\u001b[0;34m\u001b[0m\u001b[0m\n",
            "\u001b[0;32m/usr/local/lib/python3.7/dist-packages/pandas/io/parsers/readers.py\u001b[0m in \u001b[0;36mread_csv\u001b[0;34m(filepath_or_buffer, sep, delimiter, header, names, index_col, usecols, squeeze, prefix, mangle_dupe_cols, dtype, engine, converters, true_values, false_values, skipinitialspace, skiprows, skipfooter, nrows, na_values, keep_default_na, na_filter, verbose, skip_blank_lines, parse_dates, infer_datetime_format, keep_date_col, date_parser, dayfirst, cache_dates, iterator, chunksize, compression, thousands, decimal, lineterminator, quotechar, quoting, doublequote, escapechar, comment, encoding, encoding_errors, dialect, error_bad_lines, warn_bad_lines, on_bad_lines, delim_whitespace, low_memory, memory_map, float_precision, storage_options)\u001b[0m\n\u001b[1;32m    584\u001b[0m     \u001b[0mkwds\u001b[0m\u001b[0;34m.\u001b[0m\u001b[0mupdate\u001b[0m\u001b[0;34m(\u001b[0m\u001b[0mkwds_defaults\u001b[0m\u001b[0;34m)\u001b[0m\u001b[0;34m\u001b[0m\u001b[0;34m\u001b[0m\u001b[0m\n\u001b[1;32m    585\u001b[0m \u001b[0;34m\u001b[0m\u001b[0m\n\u001b[0;32m--> 586\u001b[0;31m     \u001b[0;32mreturn\u001b[0m \u001b[0m_read\u001b[0m\u001b[0;34m(\u001b[0m\u001b[0mfilepath_or_buffer\u001b[0m\u001b[0;34m,\u001b[0m \u001b[0mkwds\u001b[0m\u001b[0;34m)\u001b[0m\u001b[0;34m\u001b[0m\u001b[0;34m\u001b[0m\u001b[0m\n\u001b[0m\u001b[1;32m    587\u001b[0m \u001b[0;34m\u001b[0m\u001b[0m\n\u001b[1;32m    588\u001b[0m \u001b[0;34m\u001b[0m\u001b[0m\n",
            "\u001b[0;32m/usr/local/lib/python3.7/dist-packages/pandas/io/parsers/readers.py\u001b[0m in \u001b[0;36m_read\u001b[0;34m(filepath_or_buffer, kwds)\u001b[0m\n\u001b[1;32m    480\u001b[0m \u001b[0;34m\u001b[0m\u001b[0m\n\u001b[1;32m    481\u001b[0m     \u001b[0;31m# Create the parser.\u001b[0m\u001b[0;34m\u001b[0m\u001b[0;34m\u001b[0m\u001b[0;34m\u001b[0m\u001b[0m\n\u001b[0;32m--> 482\u001b[0;31m     \u001b[0mparser\u001b[0m \u001b[0;34m=\u001b[0m \u001b[0mTextFileReader\u001b[0m\u001b[0;34m(\u001b[0m\u001b[0mfilepath_or_buffer\u001b[0m\u001b[0;34m,\u001b[0m \u001b[0;34m**\u001b[0m\u001b[0mkwds\u001b[0m\u001b[0;34m)\u001b[0m\u001b[0;34m\u001b[0m\u001b[0;34m\u001b[0m\u001b[0m\n\u001b[0m\u001b[1;32m    483\u001b[0m \u001b[0;34m\u001b[0m\u001b[0m\n\u001b[1;32m    484\u001b[0m     \u001b[0;32mif\u001b[0m \u001b[0mchunksize\u001b[0m \u001b[0;32mor\u001b[0m \u001b[0miterator\u001b[0m\u001b[0;34m:\u001b[0m\u001b[0;34m\u001b[0m\u001b[0;34m\u001b[0m\u001b[0m\n",
            "\u001b[0;32m/usr/local/lib/python3.7/dist-packages/pandas/io/parsers/readers.py\u001b[0m in \u001b[0;36m__init__\u001b[0;34m(self, f, engine, **kwds)\u001b[0m\n\u001b[1;32m    809\u001b[0m             \u001b[0mself\u001b[0m\u001b[0;34m.\u001b[0m\u001b[0moptions\u001b[0m\u001b[0;34m[\u001b[0m\u001b[0;34m\"has_index_names\"\u001b[0m\u001b[0;34m]\u001b[0m \u001b[0;34m=\u001b[0m \u001b[0mkwds\u001b[0m\u001b[0;34m[\u001b[0m\u001b[0;34m\"has_index_names\"\u001b[0m\u001b[0;34m]\u001b[0m\u001b[0;34m\u001b[0m\u001b[0;34m\u001b[0m\u001b[0m\n\u001b[1;32m    810\u001b[0m \u001b[0;34m\u001b[0m\u001b[0m\n\u001b[0;32m--> 811\u001b[0;31m         \u001b[0mself\u001b[0m\u001b[0;34m.\u001b[0m\u001b[0m_engine\u001b[0m \u001b[0;34m=\u001b[0m \u001b[0mself\u001b[0m\u001b[0;34m.\u001b[0m\u001b[0m_make_engine\u001b[0m\u001b[0;34m(\u001b[0m\u001b[0mself\u001b[0m\u001b[0;34m.\u001b[0m\u001b[0mengine\u001b[0m\u001b[0;34m)\u001b[0m\u001b[0;34m\u001b[0m\u001b[0;34m\u001b[0m\u001b[0m\n\u001b[0m\u001b[1;32m    812\u001b[0m \u001b[0;34m\u001b[0m\u001b[0m\n\u001b[1;32m    813\u001b[0m     \u001b[0;32mdef\u001b[0m \u001b[0mclose\u001b[0m\u001b[0;34m(\u001b[0m\u001b[0mself\u001b[0m\u001b[0;34m)\u001b[0m\u001b[0;34m:\u001b[0m\u001b[0;34m\u001b[0m\u001b[0;34m\u001b[0m\u001b[0m\n",
            "\u001b[0;32m/usr/local/lib/python3.7/dist-packages/pandas/io/parsers/readers.py\u001b[0m in \u001b[0;36m_make_engine\u001b[0;34m(self, engine)\u001b[0m\n\u001b[1;32m   1038\u001b[0m             )\n\u001b[1;32m   1039\u001b[0m         \u001b[0;31m# error: Too many arguments for \"ParserBase\"\u001b[0m\u001b[0;34m\u001b[0m\u001b[0;34m\u001b[0m\u001b[0;34m\u001b[0m\u001b[0m\n\u001b[0;32m-> 1040\u001b[0;31m         \u001b[0;32mreturn\u001b[0m \u001b[0mmapping\u001b[0m\u001b[0;34m[\u001b[0m\u001b[0mengine\u001b[0m\u001b[0;34m]\u001b[0m\u001b[0;34m(\u001b[0m\u001b[0mself\u001b[0m\u001b[0;34m.\u001b[0m\u001b[0mf\u001b[0m\u001b[0;34m,\u001b[0m \u001b[0;34m**\u001b[0m\u001b[0mself\u001b[0m\u001b[0;34m.\u001b[0m\u001b[0moptions\u001b[0m\u001b[0;34m)\u001b[0m  \u001b[0;31m# type: ignore[call-arg]\u001b[0m\u001b[0;34m\u001b[0m\u001b[0;34m\u001b[0m\u001b[0m\n\u001b[0m\u001b[1;32m   1041\u001b[0m \u001b[0;34m\u001b[0m\u001b[0m\n\u001b[1;32m   1042\u001b[0m     \u001b[0;32mdef\u001b[0m \u001b[0m_failover_to_python\u001b[0m\u001b[0;34m(\u001b[0m\u001b[0mself\u001b[0m\u001b[0;34m)\u001b[0m\u001b[0;34m:\u001b[0m\u001b[0;34m\u001b[0m\u001b[0;34m\u001b[0m\u001b[0m\n",
            "\u001b[0;32m/usr/local/lib/python3.7/dist-packages/pandas/io/parsers/c_parser_wrapper.py\u001b[0m in \u001b[0;36m__init__\u001b[0;34m(self, src, **kwds)\u001b[0m\n\u001b[1;32m     49\u001b[0m \u001b[0;34m\u001b[0m\u001b[0m\n\u001b[1;32m     50\u001b[0m         \u001b[0;31m# open handles\u001b[0m\u001b[0;34m\u001b[0m\u001b[0;34m\u001b[0m\u001b[0;34m\u001b[0m\u001b[0m\n\u001b[0;32m---> 51\u001b[0;31m         \u001b[0mself\u001b[0m\u001b[0;34m.\u001b[0m\u001b[0m_open_handles\u001b[0m\u001b[0;34m(\u001b[0m\u001b[0msrc\u001b[0m\u001b[0;34m,\u001b[0m \u001b[0mkwds\u001b[0m\u001b[0;34m)\u001b[0m\u001b[0;34m\u001b[0m\u001b[0;34m\u001b[0m\u001b[0m\n\u001b[0m\u001b[1;32m     52\u001b[0m         \u001b[0;32massert\u001b[0m \u001b[0mself\u001b[0m\u001b[0;34m.\u001b[0m\u001b[0mhandles\u001b[0m \u001b[0;32mis\u001b[0m \u001b[0;32mnot\u001b[0m \u001b[0;32mNone\u001b[0m\u001b[0;34m\u001b[0m\u001b[0;34m\u001b[0m\u001b[0m\n\u001b[1;32m     53\u001b[0m \u001b[0;34m\u001b[0m\u001b[0m\n",
            "\u001b[0;32m/usr/local/lib/python3.7/dist-packages/pandas/io/parsers/base_parser.py\u001b[0m in \u001b[0;36m_open_handles\u001b[0;34m(self, src, kwds)\u001b[0m\n\u001b[1;32m    227\u001b[0m             \u001b[0mmemory_map\u001b[0m\u001b[0;34m=\u001b[0m\u001b[0mkwds\u001b[0m\u001b[0;34m.\u001b[0m\u001b[0mget\u001b[0m\u001b[0;34m(\u001b[0m\u001b[0;34m\"memory_map\"\u001b[0m\u001b[0;34m,\u001b[0m \u001b[0;32mFalse\u001b[0m\u001b[0;34m)\u001b[0m\u001b[0;34m,\u001b[0m\u001b[0;34m\u001b[0m\u001b[0;34m\u001b[0m\u001b[0m\n\u001b[1;32m    228\u001b[0m             \u001b[0mstorage_options\u001b[0m\u001b[0;34m=\u001b[0m\u001b[0mkwds\u001b[0m\u001b[0;34m.\u001b[0m\u001b[0mget\u001b[0m\u001b[0;34m(\u001b[0m\u001b[0;34m\"storage_options\"\u001b[0m\u001b[0;34m,\u001b[0m \u001b[0;32mNone\u001b[0m\u001b[0;34m)\u001b[0m\u001b[0;34m,\u001b[0m\u001b[0;34m\u001b[0m\u001b[0;34m\u001b[0m\u001b[0m\n\u001b[0;32m--> 229\u001b[0;31m             \u001b[0merrors\u001b[0m\u001b[0;34m=\u001b[0m\u001b[0mkwds\u001b[0m\u001b[0;34m.\u001b[0m\u001b[0mget\u001b[0m\u001b[0;34m(\u001b[0m\u001b[0;34m\"encoding_errors\"\u001b[0m\u001b[0;34m,\u001b[0m \u001b[0;34m\"strict\"\u001b[0m\u001b[0;34m)\u001b[0m\u001b[0;34m,\u001b[0m\u001b[0;34m\u001b[0m\u001b[0;34m\u001b[0m\u001b[0m\n\u001b[0m\u001b[1;32m    230\u001b[0m         )\n\u001b[1;32m    231\u001b[0m \u001b[0;34m\u001b[0m\u001b[0m\n",
            "\u001b[0;32m/usr/local/lib/python3.7/dist-packages/pandas/io/common.py\u001b[0m in \u001b[0;36mget_handle\u001b[0;34m(path_or_buf, mode, encoding, compression, memory_map, is_text, errors, storage_options)\u001b[0m\n\u001b[1;32m    705\u001b[0m                 \u001b[0mencoding\u001b[0m\u001b[0;34m=\u001b[0m\u001b[0mioargs\u001b[0m\u001b[0;34m.\u001b[0m\u001b[0mencoding\u001b[0m\u001b[0;34m,\u001b[0m\u001b[0;34m\u001b[0m\u001b[0;34m\u001b[0m\u001b[0m\n\u001b[1;32m    706\u001b[0m                 \u001b[0merrors\u001b[0m\u001b[0;34m=\u001b[0m\u001b[0merrors\u001b[0m\u001b[0;34m,\u001b[0m\u001b[0;34m\u001b[0m\u001b[0;34m\u001b[0m\u001b[0m\n\u001b[0;32m--> 707\u001b[0;31m                 \u001b[0mnewline\u001b[0m\u001b[0;34m=\u001b[0m\u001b[0;34m\"\"\u001b[0m\u001b[0;34m,\u001b[0m\u001b[0;34m\u001b[0m\u001b[0;34m\u001b[0m\u001b[0m\n\u001b[0m\u001b[1;32m    708\u001b[0m             )\n\u001b[1;32m    709\u001b[0m         \u001b[0;32melse\u001b[0m\u001b[0;34m:\u001b[0m\u001b[0;34m\u001b[0m\u001b[0;34m\u001b[0m\u001b[0m\n",
            "\u001b[0;31mFileNotFoundError\u001b[0m: [Errno 2] No such file or directory: 'logs/training_log.csv'"
          ]
        }
      ],
      "source": [
        "#Let's take a look at the training log\n",
        "training_log = pd.DataFrame()\n",
        "training_log = pd.read_csv(\"logs/training_log.csv\")\n",
        "training_log"
      ]
    },
    {
      "cell_type": "markdown",
      "metadata": {
        "id": "NoYqY0-tYTp5"
      },
      "source": [
        "---\n",
        "### ** >>> Exercise 6 (Take home): **  \n",
        "\n",
        "Plot the Training and Validation Accuracy and Loss (different plots), just like the images below.(Note: the pictures below are an example from a different model). How to interpret the graphs you got? How are they related to the concept of overfitting/underfitting covered in class?\n",
        "<table><tr>\n",
        "    <td><img src=\"pics/pic3.png\" style=\"width: 300px;\"/> </td>\n",
        "    <td><img src=\"pics/pic4.png\" style=\"width: 300px;\"/> </td>\n",
        "</tr></table>"
      ]
    },
    {
      "cell_type": "code",
      "execution_count": null,
      "metadata": {
        "id": "AlhstCrlYTp5"
      },
      "outputs": [],
      "source": [
        "# Answer here\n",
        "import keras\n",
        "from matplotlib import pyplot as plt\n",
        "\n",
        "plt.plot(history.history['accuracy'])\n",
        "plt.plot(history.history['val_accuracy'])\n",
        "plt.title('model accuracy')\n",
        "plt.ylabel('accuracy')\n",
        "plt.xlabel('epoch')\n",
        "plt.legend(['train', 'val'], loc='upper left')\n",
        "plt.show()"
      ]
    },
    {
      "cell_type": "markdown",
      "metadata": {
        "id": "UYabzgSGYTp5"
      },
      "source": [
        "---"
      ]
    },
    {
      "cell_type": "markdown",
      "metadata": {
        "id": "4e5eiVLOYTp5"
      },
      "source": [
        "### Note\n",
        "\n",
        "If you don't have a GPU (level is higher than GTX 1060) or you are not good at setting lots of things about computer, we recommend you to use the [kaggle kernel](https://www.kaggle.com/kernels) to do deep learning model training. They have already installed all the librarys and provided free GPU for you to use.\n",
        "\n",
        "Note however that you will only be able to run a kernel for 6 hours. After 6 hours of inactivity, your Kaggle kernel will shut down (meaning if your model takes more than 6 hours to train, you can't train it at once).\n",
        "\n",
        "\n",
        "### More Information for your reference\n",
        "\n",
        "* Keras document: https://keras.io/\n",
        "* Keras GitHub example: https://github.com/keras-team/keras/tree/master/examples\n",
        "* CS229: Machine Learning: http://cs229.stanford.edu/syllabus.html\n",
        "* Deep Learning cheatsheet: https://stanford.edu/~shervine/teaching/cs-229/cheatsheet-deep-learning\n",
        "* If you want to try TensorFlow or PyTorch: https://pytorch.org/tutorials/\n",
        "https://www.tensorflow.org/tutorials/quickstart/beginner"
      ]
    },
    {
      "cell_type": "markdown",
      "metadata": {
        "id": "IESBq48MYTp5"
      },
      "source": [
        "---\n",
        "## 7. Word2Vector\n",
        "\n",
        "We will introduce how to use `gensim` to train your word2vec model and how to load a pre-trained model.\n",
        "\n",
        "https://radimrehurek.com/gensim/index.html"
      ]
    },
    {
      "cell_type": "markdown",
      "metadata": {
        "id": "KRSDMhQ5YTp5"
      },
      "source": [
        "### 7.1 Prepare training corpus"
      ]
    },
    {
      "cell_type": "code",
      "execution_count": null,
      "metadata": {
        "id": "6aBYrovJYTp5"
      },
      "outputs": [],
      "source": [
        "## check library\n",
        "import gensim\n",
        "\n",
        "## ignore warnings\n",
        "import warnings\n",
        "warnings.filterwarnings('ignore')\n",
        "\n",
        "# # if you want to see the training messages, you can use it\n",
        "# import logging\n",
        "# logging.basicConfig(format='%(asctime)s : %(levelname)s : %(message)s', level=logging.INFO)\n",
        "\n",
        "## the input type\n",
        "train_df['text_tokenized'] = train_df['text'].apply(lambda x: nltk.word_tokenize(x))\n",
        "train_df[['id', 'text', 'text_tokenized']].head()"
      ]
    },
    {
      "cell_type": "code",
      "execution_count": null,
      "metadata": {
        "id": "okFIEcmnYTp5"
      },
      "outputs": [],
      "source": [
        "## create the training corpus\n",
        "training_corpus = train_df['text_tokenized'].values\n",
        "training_corpus[:3]"
      ]
    },
    {
      "cell_type": "markdown",
      "metadata": {
        "id": "dOgAriPRYTp5"
      },
      "source": [
        "### 7.2 Training our model\n",
        "\n",
        "You can try to train your own model. More details: https://radimrehurek.com/gensim/models/word2vec.html"
      ]
    },
    {
      "cell_type": "code",
      "source": [
        "!pip install --upgrade gensim"
      ],
      "metadata": {
        "id": "emXpPzpOE_hD"
      },
      "execution_count": null,
      "outputs": []
    },
    {
      "cell_type": "code",
      "execution_count": null,
      "metadata": {
        "id": "72ZA54IDYTp5",
        "scrolled": true
      },
      "outputs": [],
      "source": [
        "from gensim.models import Word2Vec\n",
        "\n",
        "## setting\n",
        "vector_dim = 100\n",
        "window_size = 5\n",
        "min_count = 1\n",
        "training_epochs = 20\n",
        "\n",
        "## model\n",
        "word2vec_model = Word2Vec(sentences=training_corpus, \n",
        "                          vector_size=vector_dim, window=window_size, \n",
        "                          min_count=min_count, epochs=training_epochs)"
      ]
    },
    {
      "cell_type": "markdown",
      "metadata": {
        "id": "ob0Molb3YTp5"
      },
      "source": [
        "![Imgur](https://i.imgur.com/Fca3MCs.png)"
      ]
    },
    {
      "cell_type": "markdown",
      "metadata": {
        "id": "E0jjvjN5YTp5"
      },
      "source": [
        "### 7.3 Generating word vector (embeddings)"
      ]
    },
    {
      "cell_type": "code",
      "execution_count": null,
      "metadata": {
        "id": "4ejofZfCYTp5"
      },
      "outputs": [],
      "source": [
        "# get the corresponding vector of a word\n",
        "word_vec = word2vec_model.wv['happy']\n",
        "word_vec"
      ]
    },
    {
      "cell_type": "code",
      "execution_count": null,
      "metadata": {
        "id": "9dUSkCscYTp5"
      },
      "outputs": [],
      "source": [
        "# Get the most similar words\n",
        "word = 'happy'\n",
        "topn = 10\n",
        "word2vec_model.wv.most_similar(word, topn=topn)"
      ]
    },
    {
      "cell_type": "markdown",
      "metadata": {
        "id": "zuQvZVJvYTp5"
      },
      "source": [
        "### 7.4 Using a pre-trained w2v model\n",
        "\n",
        "Instead of training your own model ,you can use a model that has already been trained. Here, we see 2 ways of doing that:\n",
        "\n",
        "\n",
        "#### (1) Download model by yourself\n",
        "\n",
        "source: [GoogleNews-vectors-negative300](https://code.google.com/archive/p/word2vec/)\n",
        "\n",
        "more details: https://radimrehurek.com/gensim/models/keyedvectors.html"
      ]
    },
    {
      "cell_type": "code",
      "execution_count": null,
      "metadata": {
        "id": "bdH9E9auYTp5"
      },
      "outputs": [],
      "source": [
        "from gensim.models import KeyedVectors\n",
        "\n",
        "## Note: this model is very huge, this will take some time ...\n",
        "model_path = \"/content/drive/My Drive/GoogleNews-vectors-negative300.bin.gz\"\n",
        "w2v_google_model = KeyedVectors.load_word2vec_format(model_path, binary=True)\n",
        "print('load ok')\n",
        "\n",
        "w2v_google_model.most_similar('happy', topn=10)"
      ]
    },
    {
      "cell_type": "markdown",
      "metadata": {
        "id": "NdQ9ul0eYTp5"
      },
      "source": [
        "#### (2) Using gensim api\n",
        "\n",
        "Other pretrained models are available here: https://github.com/RaRe-Technologies/gensim-data"
      ]
    },
    {
      "cell_type": "code",
      "execution_count": null,
      "metadata": {
        "id": "oIxHpNB6YTp5"
      },
      "outputs": [],
      "source": [
        "import gensim.downloader as api\n",
        "\n",
        "## If you see `SSL: CERTIFICATE_VERIFY_FAILED` error, use this:\n",
        "import ssl\n",
        "import urllib.request\n",
        "ssl._create_default_https_context = ssl._create_unverified_context\n",
        "\n",
        "glove_twitter_25_model = api.load(\"glove-twitter-25\")\n",
        "print('load ok')\n",
        "\n",
        "glove_twitter_25_model.most_similar('happy', topn=10)"
      ]
    },
    {
      "cell_type": "markdown",
      "metadata": {
        "id": "GCNDNqeXYTp5"
      },
      "source": [
        "### 7.5 king + woman - man = ?"
      ]
    },
    {
      "cell_type": "markdown",
      "metadata": {
        "id": "_GtCRr_7YTp5"
      },
      "source": [
        "Let's run one of the most famous examples for Word2Vec and compute the similarity between these 3 words:"
      ]
    },
    {
      "cell_type": "code",
      "execution_count": null,
      "metadata": {
        "id": "Zew7m_kIYTp5"
      },
      "outputs": [],
      "source": [
        "w2v_google_model.most_similar(positive=['king', 'woman'], negative=['man'])"
      ]
    },
    {
      "cell_type": "markdown",
      "metadata": {
        "id": "y3RQVnBOYTp5"
      },
      "source": [
        "---\n",
        "### ** >>> Exercise 7 (Take home): **  \n",
        "\n",
        "Now, we have the word vectors, but our input data is a sequence of words (or say sentence). \n",
        "How can we utilize these \"word\" vectors to represent the sentence data and train our model?\n"
      ]
    },
    {
      "cell_type": "code",
      "execution_count": null,
      "metadata": {
        "id": "TBwRT93DYTp5"
      },
      "outputs": [],
      "source": [
        "# Answer here\n",
        "word2vec_model.wv[training_corpus[0]]"
      ]
    },
    {
      "cell_type": "markdown",
      "metadata": {
        "id": "LrK7O1KDYTp5"
      },
      "source": [
        "### 8. Clustering: k-means\n",
        "\n",
        "Here we introduce how to use `sklearn` to do the basic **unsupervised learning** approach, k-means.    \n",
        "\n",
        "more details: http://scikit-learn.org/stable/modules/generated/sklearn.cluster.KMeans.html\n"
      ]
    },
    {
      "cell_type": "markdown",
      "metadata": {
        "id": "Hr8_IxwBYTp5"
      },
      "source": [
        "#### Basic concept\n",
        "\n",
        "![Image](https://i.imgur.com/PEdUf54.png)\n",
        "\n",
        "(img source: https://towardsdatascience.com/k-means-clustering-identifying-f-r-i-e-n-d-s-in-the-world-of-strangers-695537505d)"
      ]
    },
    {
      "cell_type": "code",
      "execution_count": null,
      "metadata": {
        "id": "6heUPVwWYTp5"
      },
      "outputs": [],
      "source": [
        "# clustering target\n",
        "target_list = ['happy', 'fear', 'angry', 'car', 'teacher', 'computer']\n",
        "print('target words: ', target_list)\n",
        "\n",
        "# convert to word vector\n",
        "X = [word2vec_model.wv[word] for word in target_list]"
      ]
    },
    {
      "cell_type": "code",
      "execution_count": null,
      "metadata": {
        "id": "E9t_sJrvYTp5"
      },
      "outputs": [],
      "source": [
        "from sklearn.cluster import KMeans\n",
        "\n",
        "# we have to decide how many cluster (k) we want\n",
        "k = 2\n",
        "\n",
        "# k-means model\n",
        "kmeans_model = KMeans(n_clusters=k)\n",
        "kmeans_model.fit(X)\n",
        "\n",
        "# cluster result\n",
        "cluster_result = kmeans_model.labels_\n",
        "\n",
        "# show\n",
        "for i in range(len(target_list)):\n",
        "    print('word: {} \\t cluster: {}'.format(target_list[i], cluster_result[i]))"
      ]
    },
    {
      "cell_type": "markdown",
      "metadata": {
        "id": "QcDTL7kRYTp5"
      },
      "source": [
        "![Imgur](pics/pic6.png)"
      ]
    },
    {
      "cell_type": "code",
      "execution_count": null,
      "metadata": {
        "id": "NIMFax_uYTp5"
      },
      "outputs": [],
      "source": [
        "#check cluster membership\n",
        "word = 'student'\n",
        "word_vec = word2vec_model.wv[word]\n",
        "kmeans_model.predict([word_vec])"
      ]
    },
    {
      "cell_type": "code",
      "execution_count": null,
      "metadata": {
        "id": "vIDuLDOlYTp5"
      },
      "outputs": [],
      "source": [
        "#check cluster membership\n",
        "word = 'sad'\n",
        "word_vec = word2vec_model.wv[word]\n",
        "kmeans_model.predict([word_vec])"
      ]
    },
    {
      "cell_type": "markdown",
      "metadata": {
        "id": "cZOEGH3GYTp5"
      },
      "source": [
        "\n",
        "## 9. High-dimension Visualization: t-SNE\n",
        "\n",
        "No matter if you use the Bag-of-words, TF-IDF, or Word2Vec, it's very hard to see the embedding result, because the dimension is larger than 3.  \n",
        "\n",
        "In Lab 1, we already talked about PCA. We can use PCA to reduce the dimension of our data, then visualize it. However, if you dig deeper into the result, you'd find it is insufficient.\n",
        "\n",
        "Our aim will be to create a visualization similar to the one below:"
      ]
    },
    {
      "cell_type": "markdown",
      "metadata": {
        "id": "4FeIFzzxYTp5"
      },
      "source": [
        "  "
      ]
    },
    {
      "cell_type": "markdown",
      "metadata": {
        "id": "3-JR-rqyYTp5"
      },
      "source": [
        "![Image](pics/pic7.png)\n",
        "source: https://www.fabian-keller.de/research/high-dimensional-data-visualization "
      ]
    },
    {
      "cell_type": "markdown",
      "metadata": {
        "id": "KCFR771SYTp5"
      },
      "source": [
        "  "
      ]
    },
    {
      "cell_type": "markdown",
      "metadata": {
        "id": "tmdbJbjxYTp5"
      },
      "source": [
        "Here we would like to introduce another visualization method called t-SNE.  \n",
        "http://scikit-learn.org/stable/modules/generated/sklearn.manifold.TSNE.html "
      ]
    },
    {
      "cell_type": "markdown",
      "metadata": {
        "id": "MU8eeDnGYTp5"
      },
      "source": [
        "### 9.1 Prepare visualizing target"
      ]
    },
    {
      "cell_type": "markdown",
      "metadata": {
        "id": "T9IHcP3VYTp5"
      },
      "source": [
        "Let's prepare data lists like:\n",
        "- happy words\n",
        "- angry words\n",
        "- data words\n",
        "- mining words"
      ]
    },
    {
      "cell_type": "code",
      "execution_count": null,
      "metadata": {
        "id": "L9il5L7pYTp5"
      },
      "outputs": [],
      "source": [
        "word_list = ['happy', 'angry', 'data', 'mining']\n",
        "\n",
        "topn = 5\n",
        "happy_words = ['happy'] + [word_ for word_, sim_ in w2v_google_model.most_similar('happy', topn=topn)]\n",
        "angry_words = ['angry'] + [word_ for word_, sim_ in w2v_google_model.most_similar('angry', topn=topn)]        \n",
        "data_words = ['data'] + [word_ for word_, sim_ in w2v_google_model.most_similar('data', topn=topn)]        \n",
        "mining_words = ['mining'] + [word_ for word_, sim_ in w2v_google_model.most_similar('mining', topn=topn)]        \n",
        "\n",
        "print('happy_words: ', happy_words)\n",
        "print('angry_words: ', angry_words)\n",
        "print('data_words: ', data_words)\n",
        "print('mining_words: ', mining_words)\n",
        "\n",
        "target_words = happy_words + angry_words + data_words + mining_words\n",
        "print('\\ntarget words: ')\n",
        "print(target_words)\n",
        "\n",
        "print('\\ncolor list:')\n",
        "cn = topn + 1\n",
        "color = ['b'] * cn + ['g'] * cn + ['r'] * cn + ['y'] * cn\n",
        "print(color)"
      ]
    },
    {
      "cell_type": "markdown",
      "metadata": {
        "id": "zKa5LRxbYTp5"
      },
      "source": [
        "### 9.2 Plot using t-SNE (2-dimension)"
      ]
    },
    {
      "cell_type": "code",
      "execution_count": null,
      "metadata": {
        "id": "CJlljN2gYTp5"
      },
      "outputs": [],
      "source": [
        "%matplotlib inline\n",
        "import matplotlib.pyplot as plt\n",
        "from sklearn.manifold import TSNE\n",
        "\n",
        "## w2v model\n",
        "model = w2v_google_model\n",
        "\n",
        "## prepare training word vectors\n",
        "size = 200\n",
        "target_size = len(target_words)\n",
        "all_word = list(model.index_to_key)\n",
        "word_train = target_words + all_word[:size]\n",
        "X_train = model[word_train]\n",
        "\n",
        "## t-SNE model\n",
        "tsne = TSNE(n_components=2, metric='cosine', random_state=28)\n",
        "\n",
        "## training\n",
        "X_tsne = tsne.fit_transform(X_train)\n",
        "\n",
        "## plot the result\n",
        "plt.figure(figsize=(7.5, 7.5), dpi=115)\n",
        "plt.scatter(X_tsne[:target_size, 0], X_tsne[:target_size, 1], c=color)\n",
        "for label, x, y in zip(target_words, X_tsne[:target_size, 0], X_tsne[:target_size, 1]):\n",
        "    plt.annotate(label, xy=(x,y), xytext=(0,0),  textcoords='offset points')\n",
        "plt.show()"
      ]
    },
    {
      "cell_type": "markdown",
      "metadata": {
        "id": "2PL61rqYYTp5"
      },
      "source": [
        "---\n",
        "### ** >>> Exercise 8 (Take home): **  \n",
        "\n",
        "Generate a t-SNE visualization to show the 15 words most related to the words \"angry\", \"happy\", \"sad\", \"fear\" (60 words total)."
      ]
    },
    {
      "cell_type": "code",
      "source": [
        "for word_, sim_ in w2v_google_model.most_similar('happy', topn=15):\n",
        "  print(word_, sim_)"
      ],
      "metadata": {
        "id": "WyGQW4PNNtDr"
      },
      "execution_count": null,
      "outputs": []
    },
    {
      "cell_type": "code",
      "execution_count": null,
      "metadata": {
        "id": "rvh7ymeNYTp5"
      },
      "outputs": [],
      "source": [
        "# Answer here\n",
        "word_list = ['happy', 'angry', 'data', 'mining']\n",
        "\n",
        "topn = 15\n",
        "happy_words = ['happy'] + [word_ for word_, s in w2v_google_model.most_similar('happy', topn=topn)]\n",
        "angry_words = ['angry'] + [word_ for word_, s in w2v_google_model.most_similar('angry', topn=topn)]        \n",
        "data_words = ['data'] + [word_ for word_, s in w2v_google_model.most_similar('data', topn=topn)]        \n",
        "mining_words = ['mining'] + [word_ for word_, s in w2v_google_model.most_similar('mining', topn=topn)]        \n",
        "\n",
        "\n",
        "cn = topn + 1\n",
        "color = ['b'] * cn + ['g'] * cn + ['r'] * cn + ['y'] * cn\n",
        "\n",
        "## w2v model\n",
        "model = w2v_google_model\n",
        "\n",
        "## prepare training word vectors\n",
        "size = 200\n",
        "target_size = len(target_words)\n",
        "all_word = list(model.key_to_index)\n",
        "word_train = target_words + all_word[:size]\n",
        "X_train = model[word_train]\n",
        "\n",
        "## t-SNE model\n",
        "tsne = TSNE(n_components=2, metric='cosine', random_state=28)\n",
        "\n",
        "## training\n",
        "X_tsne = tsne.fit_transform(X_train)\n",
        "\n",
        "## plot the result\n",
        "plt.figure(figsize=(7.5, 7.5), dpi=115)\n",
        "plt.scatter(X_tsne[:target_size, 0], X_tsne[:target_size, 1], c=color)\n",
        "for label, x, y in zip(target_words, X_tsne[:target_size, 0], X_tsne[:target_size, 1]):\n",
        "    plt.annotate(label, xy=(x,y), xytext=(0,0),  textcoords='offset points')\n",
        "plt.show()"
      ]
    },
    {
      "cell_type": "markdown",
      "metadata": {
        "id": "_fF1woa8YTp5"
      },
      "source": [
        "---"
      ]
    },
    {
      "cell_type": "code",
      "source": [],
      "metadata": {
        "id": "Zrjwg1l3U_gA"
      },
      "execution_count": null,
      "outputs": []
    }
  ],
  "metadata": {
    "colab": {
      "collapsed_sections": [
        "4e5eiVLOYTp5"
      ],
      "provenance": []
    },
    "kernelspec": {
      "display_name": "Python 3 (ipykernel)",
      "language": "python",
      "name": "python3"
    },
    "language_info": {
      "codemirror_mode": {
        "name": "ipython",
        "version": 3
      },
      "file_extension": ".py",
      "mimetype": "text/x-python",
      "name": "python",
      "nbconvert_exporter": "python",
      "pygments_lexer": "ipython3",
      "version": "3.8.13"
    },
    "varInspector": {
      "cols": {
        "lenName": 16,
        "lenType": 16,
        "lenVar": 40
      },
      "kernels_config": {
        "python": {
          "delete_cmd_postfix": "",
          "delete_cmd_prefix": "del ",
          "library": "var_list.py",
          "varRefreshCmd": "print(var_dic_list())"
        },
        "r": {
          "delete_cmd_postfix": ") ",
          "delete_cmd_prefix": "rm(",
          "library": "var_list.r",
          "varRefreshCmd": "cat(var_dic_list()) "
        }
      },
      "oldHeight": 594.85,
      "position": {
        "height": "40px",
        "left": "723px",
        "right": "20px",
        "top": "80px",
        "width": "250px"
      },
      "types_to_exclude": [
        "module",
        "function",
        "builtin_function_or_method",
        "instance",
        "_Feature"
      ],
      "varInspector_section_display": "none",
      "window_display": true
    }
  },
  "nbformat": 4,
  "nbformat_minor": 0
}